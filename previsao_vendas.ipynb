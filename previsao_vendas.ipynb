{
 "cells": [
  {
   "cell_type": "code",
   "execution_count": 5,
   "id": "e2f6a5f2",
   "metadata": {},
   "outputs": [],
   "source": [
    "import math\n",
    "import numpy  as np\n",
    "import pandas as pd\n",
    "import random\n",
    "import pickle\n",
    "import requests\n",
    "import warnings\n",
    "import inflection\n",
    "import seaborn as sns\n",
    "import xgboost as xgb\n",
    "\n",
    "from scipy                 import stats  as ss\n",
    "from boruta                import BorutaPy\n",
    "from matplotlib            import pyplot as plt\n",
    "from IPython.display       import Image\n",
    "from IPython.core.display  import HTML\n",
    "\n",
    "\n",
    "from sklearn.metrics       import mean_absolute_error, mean_squared_error\n",
    "from sklearn.ensemble      import RandomForestRegressor\n",
    "from sklearn.linear_model  import LinearRegression, Lasso\n",
    "from sklearn.preprocessing import RobustScaler, MinMaxScaler, LabelEncoder\n",
    "\n",
    "warnings.filterwarnings( 'ignore' )"
   ]
  },
  {
   "cell_type": "code",
   "execution_count": null,
   "id": "af83f6f4",
   "metadata": {},
   "outputs": [],
   "source": [
    "pip install tabulate"
   ]
  },
  {
   "cell_type": "code",
   "execution_count": null,
   "id": "6a610479",
   "metadata": {},
   "outputs": [],
   "source": [
    "pip install Boruta"
   ]
  },
  {
   "cell_type": "code",
   "execution_count": null,
   "id": "9f614412",
   "metadata": {},
   "outputs": [],
   "source": [
    "pip install xgboost"
   ]
  },
  {
   "cell_type": "code",
   "execution_count": 1,
   "id": "4e1e9007",
   "metadata": {},
   "outputs": [],
   "source": [
    "## 0.1. Helper Functions"
   ]
  },
  {
   "cell_type": "code",
   "execution_count": null,
   "id": "2a7ea1ba",
   "metadata": {},
   "outputs": [],
   "source": [
    "def cross_validation( x_training, kfold, model_name, model, verbose=False ):\n",
    "    mae_list = []\n",
    "    mape_list = []\n",
    "    rmse_list = []\n",
    "    for k in reversed( range( 1, kfold+1 ) ):\n",
    "        if verbose:\n",
    "            print( '\\nKFold Number: {}'.format( k ) )\n",
    "        # start and end date for validation \n",
    "        validation_start_date = x_training['date'].max() - datetime.timedelta(days=k*6*7)\n",
    "        validation_end_date = x_training['date'].max() - datetime.timedelta(days=(k-1)*6*7)\n",
    "\n",
    "        # filtering dataset\n",
    "        training = x_training[x_training['date'] < validation_start_date]\n",
    "        validation = x_training[(x_training['date'] >= validation_start_date) & \n",
    "                                (x_training['date'] <= validation_end_date)]\n",
    "\n",
    "        # training and validation dataset\n",
    "        # training\n",
    "        xtraining = training.drop( ['date', 'sales'], axis=1 ) \n",
    "        ytraining = training['sales']\n",
    "\n",
    "        # validation\n",
    "        xvalidation = validation.drop( ['date', 'sales'], axis=1 )\n",
    "        yvalidation = validation['sales']\n",
    "\n",
    "        # model\n",
    "        m = model.fit( xtraining, ytraining )\n",
    "\n",
    "        # prediction\n",
    "        yhat = m.predict( xvalidation )\n",
    "\n",
    "        # performance\n",
    "        m_result = ml_error( model_name, np.expm1( yvalidation ), np.expm1( yhat ) )\n",
    "\n",
    "        # store performance of each kfold iteration\n",
    "        mae_list.append(  m_result['MAE'] )\n",
    "        mape_list.append( m_result['MAPE'] )\n",
    "        rmse_list.append( m_result['RMSE'] )\n",
    "\n",
    "    return pd.DataFrame( {'Model Name': model_name,\n",
    "                          'MAE CV': np.round( np.mean( mae_list ), 2 ).astype( str ) \n",
    "                          + ' +/- ' + np.round( np.std( mae_list ),                                                         \n",
    "                                               2 ).astype( str ),\n",
    "                          'MAPE CV': np.round( np.mean( mape_list ), 2 ).astype( str ) \n",
    "                          + ' +/- ' + np.round( np.std( mape_list ),\n",
    "                                              2 ).astype( str ),\n",
    "                          'RMSE CV': np.round( np.mean( rmse_list ), 2 ).astype( str ) \n",
    "                          + ' +/- ' + np.round( np.std( rmse_list ),\n",
    "                                            2 ).astype( str ) }, index=[0] )\n",
    "\n",
    "\n",
    "def mean_percentage_error( y, yhat ):\n",
    "    return np.mean( ( y - yhat ) / y )\n",
    "     \n",
    "    \n",
    "def mean_absolute_percentage_error( y, yhat ):\n",
    "    return np.mean( np.abs( ( y - yhat ) / y ) )\n",
    "\n",
    "    \n",
    "def ml_error( model_name, y, yhat ):\n",
    "    mae = mean_absolute_error( y, yhat )\n",
    "    mape = mean_absolute_percentage_error( y, yhat )\n",
    "    rmse = np.sqrt( mean_squared_error( y, yhat ) )\n",
    "    \n",
    "    return pd.DataFrame( { 'Model Name': model_name, \n",
    "                           'MAE': mae, \n",
    "                           'MAPE': mape,\n",
    "                           'RMSE': rmse }, index=[0] )\n",
    "\n",
    "def cramer_v( x, y ):\n",
    "    cm = pd.crosstab( x, y ).as_matrix()\n",
    "    n = cm.sum()\n",
    "    r, k = cm.shape\n",
    "    \n",
    "    chi2 = ss.chi2_contingency( cm )[0]\n",
    "    chi2corr = max( 0, chi2 - (k-1)*(r-1)/(n-1) )\n",
    "    \n",
    "    kcorr = k - (k-1)**2/(n-1)\n",
    "    rcorr = r - (r-1)**2/(n-1)\n",
    "    \n",
    "    return np.sqrt( (chi2corr/n) / ( min( kcorr-1, rcorr-1 ) ) )\n",
    "\n",
    "\n",
    "\n",
    "def jupyter_settings():\n",
    "    %matplotlib inline\n",
    "    %pylab inline\n",
    "    \n",
    "    plt.style.use( 'bmh' )\n",
    "    plt.rcParams['figure.figsize'] = [25, 12]\n",
    "    plt.rcParams['font.size'] = 24\n",
    "    \n",
    "    display( HTML( '<style>.container { width:100% !important; }</style>') )\n",
    "    pd.options.display.max_columns = None\n",
    "    pd.options.display.max_rows = None\n",
    "    pd.set_option( 'display.expand_frame_repr', False )\n",
    "    \n",
    "    sns.set()"
   ]
  },
  {
   "cell_type": "code",
   "execution_count": null,
   "id": "093429bf",
   "metadata": {},
   "outputs": [],
   "source": [
    "# Questão de negócio: causa raiz do problema\n",
    "# ex: dificuldade em determinar o valor do investimento em reformas de farmácia\n",
    "\n",
    "# motivação: reunião de resultados\n",
    "# quem é stackhlder: CFO\n",
    "# formato da solução: predições acessadas via celular"
   ]
  },
  {
   "cell_type": "code",
   "execution_count": null,
   "id": "5294b9fd",
   "metadata": {},
   "outputs": [],
   "source": [
    "# Entendimento do negócio: \n",
    "# qual é a variável alvo ex: vendas\n",
    "# tipo de problema ex: predição (classificação, regressão, previsão de demanda)\n",
    "# granularidade ex: vendas diárias em R$ nas próximas 6 semanas\n",
    "# método ex: predição, regressão, time series, redes neurais, LSTM\n"
   ]
  },
  {
   "cell_type": "markdown",
   "id": "e2785061",
   "metadata": {},
   "source": [
    "# Coleta de dados\n",
    "        # requisição de APIs, banco de dados, webscaping e download\n",
    "        # carregamento de dados"
   ]
  },
  {
   "cell_type": "code",
   "execution_count": null,
   "id": "a17c13dd",
   "metadata": {},
   "outputs": [],
   "source": [
    "## 0.2. Loading data"
   ]
  },
  {
   "cell_type": "code",
   "execution_count": null,
   "id": "981ba8d6",
   "metadata": {},
   "outputs": [],
   "source": [
    "df_sales_raw = pd.read_csv( 'C:/Users/paula/EndoCalc_Analytics/pasta/arquivo.csv', \n",
    "                           low_memory=False )\n",
    "df_store_raw = pd.read_csv( 'C:/Users/paula/EndoCalc_Analytics/pasta/arquivo2.csv', \n",
    "                           low_memory=False )"
   ]
  },
  {
   "cell_type": "code",
   "execution_count": null,
   "id": "1e1dfd89",
   "metadata": {},
   "outputs": [],
   "source": [
    "# se arquivo xlsx, converter para csv\n",
    "\n",
    "read_file = pd.read_excel('C:/Users/paula/EndoCalc_Analytics/pasta/arquivo.xlsx')\n",
    "read_file.to_csv('C:/Users/paula/EndoCalc_Analytics/vitaminad/copiaarquivo.xlsx')\n",
    "df = read_file\n",
    "df.head()"
   ]
  },
  {
   "cell_type": "code",
   "execution_count": null,
   "id": "a5a3bee2",
   "metadata": {},
   "outputs": [],
   "source": [
    "# merge\n",
    "\n",
    "df_raw = pd.merge( df_sales_raw, df_store_raw, how='left', on='Store' )"
   ]
  },
  {
   "cell_type": "code",
   "execution_count": null,
   "id": "32014ce4",
   "metadata": {},
   "outputs": [],
   "source": [
    "# verificar linha aleatoria\n",
    "\n",
    "df_raw.sample()"
   ]
  },
  {
   "cell_type": "markdown",
   "id": "687a96e4",
   "metadata": {},
   "source": [
    "# Limpeza de dados \n",
    "    # Quão desafiador é o problema? \n",
    "    # Estatística descritiva:\n",
    "        # qde de dados (é necessário servidor, cluster, spark, hadoop?)\n",
    "        # tipos de var: % num % cat % temporal\n",
    "        # qde de dados faltantes (razão: sistema, input...)\n",
    "    # Verificar datas, caracteres especiais, tipos de dados, etc    \n",
    "    "
   ]
  },
  {
   "cell_type": "markdown",
   "id": "ef2bc37e",
   "metadata": {},
   "source": [
    "# 1.0 DESCRICAO DOS DADOS"
   ]
  },
  {
   "cell_type": "code",
   "execution_count": null,
   "id": "f1bcba98",
   "metadata": {},
   "outputs": [],
   "source": [
    "df1 = df_raw.copy()"
   ]
  },
  {
   "cell_type": "markdown",
   "id": "823330c1",
   "metadata": {},
   "source": [
    "## 1.1. Rename Columns"
   ]
  },
  {
   "cell_type": "code",
   "execution_count": null,
   "id": "b0daaeef",
   "metadata": {},
   "outputs": [],
   "source": [
    "df_raw.columns"
   ]
  },
  {
   "cell_type": "code",
   "execution_count": null,
   "id": "779beda0",
   "metadata": {},
   "outputs": [],
   "source": [
    "cols_old = ['Store', 'DayOfWeek', 'Date', 'Sales', 'Customers', 'Open', 'Promo', \n",
    "            'StateHoliday', 'SchoolHoliday','StoreType', 'Assortment', \n",
    "            'CompetitionDistance', 'CompetitionOpenSinceMonth',\n",
    "            'CompetitionOpenSinceYear', 'Promo2', 'Promo2SinceWeek', \n",
    "            'Promo2SinceYear', 'PromoInterval']\n",
    "\n",
    "# alterar palavras p minusculo e separado por underscore\n",
    "\n",
    "snakecase = lambda x: inflection.underscore( x )\n",
    "\n",
    "cols_new = list( map( snakecase, cols_old ) )\n",
    "\n",
    "# rename\n",
    "\n",
    "df1.columns = cols_new"
   ]
  },
  {
   "cell_type": "markdown",
   "id": "5cd5eed9",
   "metadata": {},
   "source": [
    "## 1.2. Data Dimensions"
   ]
  },
  {
   "cell_type": "code",
   "execution_count": null,
   "id": "a1b5b8c6",
   "metadata": {},
   "outputs": [],
   "source": [
    "print( 'Number of Rows: {}'.format( df1.shape[0] ) )\n",
    "print( 'Number of Cols: {}'.format( df1.shape[1] ) )"
   ]
  },
  {
   "cell_type": "markdown",
   "id": "3554c730",
   "metadata": {},
   "source": [
    "## 1.3. Data Types"
   ]
  },
  {
   "cell_type": "code",
   "execution_count": null,
   "id": "959ab82e",
   "metadata": {},
   "outputs": [],
   "source": [
    "df1.dtypes"
   ]
  },
  {
   "cell_type": "code",
   "execution_count": null,
   "id": "94bca002",
   "metadata": {},
   "outputs": [],
   "source": [
    "# alterar formato da data para datetime64\n",
    "\n",
    "df1['date'] = pd.to_datetime( df1['date'] )\n",
    "df1.dtypes"
   ]
  },
  {
   "cell_type": "code",
   "execution_count": null,
   "id": "d6123a53",
   "metadata": {},
   "outputs": [],
   "source": [
    "# alterar objeto para int64\n",
    "\n",
    "df1['month'] = df1['month'].astype( 'int64' )"
   ]
  },
  {
   "cell_type": "markdown",
   "id": "b69c7d14",
   "metadata": {},
   "source": [
    "## 1.4. Check NA"
   ]
  },
  {
   "cell_type": "code",
   "execution_count": null,
   "id": "caeb9147",
   "metadata": {},
   "outputs": [],
   "source": [
    "df1.isna().sum()"
   ]
  },
  {
   "cell_type": "markdown",
   "id": "48f6ae41",
   "metadata": {},
   "source": [
    "## 1.5. Fillout NA"
   ]
  },
  {
   "cell_type": "code",
   "execution_count": null,
   "id": "c43b132a",
   "metadata": {},
   "outputs": [],
   "source": [
    "#  Como lidar com NA:\n",
    "\n",
    "# 1 excluir: vantagem -> rápido ; desvantagem -> perda de informações que podem \n",
    "#ser relevantes\n",
    "# 2 utilizar algoritmos de ML p substituir dados faltantes (clusterização) ou usar \n",
    "#mediana dependendo do caso\n",
    "# 3 hipoteses deste negocio ex: se não existe dados do competidor mais proximo pode \n",
    "#ser pq ele está muito distante"
   ]
  },
  {
   "cell_type": "code",
   "execution_count": null,
   "id": "dd94c80e",
   "metadata": {},
   "outputs": [],
   "source": [
    "# verificar NA na coluna competition_distance\n",
    "\n",
    "#classe.metodo(df['coluna'])\n",
    "\n",
    "# math.isnan(df1['competition_distance'])\n",
    "\n",
    "# para substituir os NAs da coluna competition_distance -> aplicar metodo p subst \n",
    "#pelo valor acima max\n",
    "\n",
    "# df1('competition_distance').apply(lambda x: 200000 if math.isnan(x) else x)"
   ]
  },
  {
   "cell_type": "code",
   "execution_count": null,
   "id": "17623111",
   "metadata": {},
   "outputs": [],
   "source": [
    "# verificar NA na coluna 'competition_open_since_month'\n",
    "\n",
    "# hipoteses: pode ter sido aberto antes (registros) ou seja tem competidor mas não \n",
    "#foi registrado\n",
    "    # pq foi aberto depois.\n",
    "    # substituir o nan pela primeira data da venda\n",
    "    \n",
    "# quando o metodo utiliza mais de um coluna deve-se add axis=1\n",
    "\n",
    "# df1.apply(lambda x: x['date'].month if math.isnan(x['competition_open_since_month'])\n",
    "#else x['competition_open_since_month'], axis=1)"
   ]
  },
  {
   "cell_type": "code",
   "execution_count": null,
   "id": "9630bb77",
   "metadata": {},
   "outputs": [],
   "source": [
    "# verificar month map transposto\n",
    "# fiilina -> substituir por zero\n",
    "\n",
    "#substituir numeros por letras  \n",
    "\n",
    "month_map = {1: 'Jan',  2: 'Fev',  3: 'Mar',  4: 'Apr',  5: 'May',  6: 'Jun',  7: 'Jul',  \n",
    "             8: 'Aug',  9: 'Sep',  10: 'Oct', \n",
    "             11: 'Nov', 12: 'Dec'}\n",
    "\n",
    "#substituir por zero\n",
    "# inplace=True -> aplicar diretamente\n",
    "\n",
    "df1['promo_interval'].fillna(0, inplace=True )\n",
    "\n",
    "# map -> mapear os dados dentro das colunas da coluna date\n",
    "\n",
    "df1['month_map'] = df1['date'].dt.month.map( month_map )"
   ]
  },
  {
   "cell_type": "code",
   "execution_count": null,
   "id": "0421e6d8",
   "metadata": {},
   "outputs": [],
   "source": [
    "df1.sample(5).T"
   ]
  },
  {
   "cell_type": "code",
   "execution_count": null,
   "id": "4948d8ed",
   "metadata": {},
   "outputs": [],
   "source": [
    "df1.isna().sum()"
   ]
  },
  {
   "cell_type": "markdown",
   "id": "a9c5552e",
   "metadata": {},
   "source": [
    "## 1.6. Change Data Types"
   ]
  },
  {
   "cell_type": "code",
   "execution_count": null,
   "id": "1abeaa55",
   "metadata": {},
   "outputs": [],
   "source": [
    "df1['month'] = df1['month'].astype( 'int64' )"
   ]
  },
  {
   "cell_type": "code",
   "execution_count": null,
   "id": "a3b8991d",
   "metadata": {},
   "outputs": [],
   "source": [
    "# checar novamente após modificações\n",
    "\n",
    "df1.dtypes"
   ]
  },
  {
   "cell_type": "markdown",
   "id": "a29682b4",
   "metadata": {},
   "source": [
    "## 1.7. Descriptive Statistics"
   ]
  },
  {
   "cell_type": "code",
   "execution_count": null,
   "id": "48967e15",
   "metadata": {},
   "outputs": [],
   "source": [
    "# Ideia de negocio\n",
    "# Objetivo: panorama sobre os dados do negócio e detectar erros\n",
    "# Como: métricas de tendencia central\n",
    "#       medidas de dispersão: \n",
    "#        concentração de dados : kurtosis (qto maior a kurtosis positiva maior o pico)\n",
    "#        deformação em relação à normal: skew (esquerda deformação pos, \n",
    "# dir deformação neg)"
   ]
  },
  {
   "cell_type": "code",
   "execution_count": null,
   "id": "0e672094",
   "metadata": {},
   "outputs": [],
   "source": [
    "# separar em numerico e categorico\n",
    "\n",
    "num_attributes = df1.select_dtypes( include=['int64', 'float64'] )\n",
    "cat_attributes = df1.select_dtypes( exclude=['int64', 'float64', 'datetime64[ns]'] )"
   ]
  },
  {
   "cell_type": "markdown",
   "id": "624ac60c",
   "metadata": {},
   "source": [
    "### 1.7.1. Numerical Atributes"
   ]
  },
  {
   "cell_type": "code",
   "execution_count": null,
   "id": "cbff7e7b",
   "metadata": {},
   "outputs": [],
   "source": [
    "# Central Tendency - mean, meadina \n",
    "ct1 = pd.DataFrame( num_attributes.apply( np.mean ) ).T\n",
    "ct2 = pd.DataFrame( num_attributes.apply( np.median ) ).T\n",
    "\n",
    "# dispersion - std, min, max, range, skew, kurtosis\n",
    "d1 = pd.DataFrame( num_attributes.apply( np.std ) ).T \n",
    "d2 = pd.DataFrame( num_attributes.apply( min ) ).T \n",
    "d3 = pd.DataFrame( num_attributes.apply( max ) ).T \n",
    "d4 = pd.DataFrame( num_attributes.apply( lambda x: x.max() - x.min() ) ).T \n",
    "d5 = pd.DataFrame( num_attributes.apply( lambda x: x.skew() ) ).T \n",
    "d6 = pd.DataFrame( num_attributes.apply( lambda x: x.kurtosis() ) ).T \n",
    "\n",
    "# concatenar\n",
    "m = pd.concat( [d2, d3, d4, ct1, ct2, d1, d5, d6] ).T.reset_index()\n",
    "m.columns = ['attributes', 'min', 'max', 'range', 'mean', 'median', 'std', 'skew', \n",
    "             kurtosis']\n",
    "m"
   ]
  },
  {
   "cell_type": "code",
   "execution_count": null,
   "id": "d50d9333",
   "metadata": {},
   "outputs": [],
   "source": [
    "# verificar distribuição de determinada variavel \n",
    "\n",
    "plt.figure(figsize=(25, 12)) \n",
    "sns.distplot( df1['competition_distance'], kde=False)"
   ]
  },
  {
   "cell_type": "markdown",
   "id": "7f803b81",
   "metadata": {},
   "source": [
    "### 1.7.2. Categorical Atributes"
   ]
  },
  {
   "cell_type": "code",
   "execution_count": null,
   "id": "cd1ab886",
   "metadata": {},
   "outputs": [],
   "source": [
    "# verificar a quantidade de variaveis categoricas\n",
    "\n",
    "cat_attributes.apply( lambda x: x.unique().shape[0] )"
   ]
  },
  {
   "cell_type": "code",
   "execution_count": null,
   "id": "b9f7ef57",
   "metadata": {},
   "outputs": [],
   "source": [
    "# para comparar var diferentese e com linhas de determinada coluna com var != 0 & \n",
    "#coluna com var > 0\n",
    "\n",
    "aux = df1[(df1['state_holiday'] != '0') & (df1['sales'] > 0)]"
   ]
  },
  {
   "cell_type": "code",
   "execution_count": null,
   "id": "d75ecc21",
   "metadata": {},
   "outputs": [],
   "source": [
    "# plotar grafico boxplot para comparar variaveis \n",
    "\n",
    "aux = df1[(df1['state_holiday'] != '0') & (df1['sales'] > 0)]\n",
    "\n",
    "#plt.subplot( num de linhas, num de colunas, posição do grafico  )\n",
    "\n",
    "plt.subplot( 1, 3, 1 )\n",
    "sns.boxplot( x='state_holiday', y='sales', data=aux )\n",
    "\n",
    "plt.subplot( 1, 3, 2 )\n",
    "sns.boxplot( x='store_type', y='sales', data=aux )\n",
    "\n",
    "plt.subplot( 1, 3, 3 )\n",
    "sns.boxplot( x='assortment', y='sales', data=aux )"
   ]
  },
  {
   "cell_type": "code",
   "execution_count": null,
   "id": "5d35a702",
   "metadata": {},
   "outputs": [],
   "source": [
    "# formatar dimesão dos graficos\n",
    "\n",
    "def jupyter_settings():\n",
    "    %matplotlib inline\n",
    "    %pylab inline\n",
    "    \n",
    "    plt.style.use( 'bmh' )\n",
    "    plt.rcParams['figure.figsize'] = [25, 12]\n",
    "    plt.rcParams['font.size'] = 24\n",
    "    \n",
    "    display( HTML( '<style>.container { width:100% !important; }</style>') )\n",
    "    pd.options.display.max_columns = None\n",
    "    pd.options.display.max_rows = None\n",
    "    pd.set_option( 'display.expand_frame_repr', False )\n",
    "    \n",
    "    sns.set()"
   ]
  },
  {
   "cell_type": "code",
   "execution_count": null,
   "id": "efd7a178",
   "metadata": {},
   "outputs": [],
   "source": [
    "sns.distplot( df1['competition_distance'], kde=False)"
   ]
  },
  {
   "cell_type": "markdown",
   "id": "5fbc9942",
   "metadata": {},
   "source": [
    "# 2.0. PASSO 02 - FEATURE ENGINEERING"
   ]
  },
  {
   "cell_type": "code",
   "execution_count": null,
   "id": "a678e008",
   "metadata": {},
   "outputs": [],
   "source": [
    "# Objetivo: Criar as variáveis disponíveis para estudo durante a Análise exploratória \n",
    "#de dados\n",
    "# Como: derivando features de var originais e selecionando var disponíveis p o ciclo \n",
    "# visualização: através de mapa mental "
   ]
  },
  {
   "cell_type": "code",
   "execution_count": null,
   "id": "d5e6bc5c",
   "metadata": {},
   "outputs": [],
   "source": [
    "df2 = df1.copy()"
   ]
  },
  {
   "cell_type": "markdown",
   "id": "b5fa14e0",
   "metadata": {},
   "source": [
    "## 2.1. Mapa Mental de Hipoteses"
   ]
  },
  {
   "cell_type": "code",
   "execution_count": null,
   "id": "796186ef",
   "metadata": {},
   "outputs": [],
   "source": [
    "# Objetivo: enxergar o nível de detalhamento e quais variáveis para guiar na análise \n",
    "#explor de dados\n",
    "# extremamente importante uma reunião com cada setor p verfic o impacto da VAR alvo"
   ]
  },
  {
   "cell_type": "code",
   "execution_count": null,
   "id": "9487fdf5",
   "metadata": {},
   "outputs": [],
   "source": [
    "# Como:\n",
    "\n",
    "# 1- fenômeno: o que vc está tentando medir ou modelar p ensinar o algoritmo de ML \n",
    "#ex: vendas\n",
    "# 2- agentes: entidades que impactam o fenômeno ex: produtos, clientes, lojas \n",
    "# 3- atributos dos agentes: caracteristicas do agente ex: idade do cliente, \n",
    "#frequencia compra \n",
    "# 4- lista de hipóteses: hipóteses para validar com os dados (surpresa e \n",
    "#contraposição da crença)"
   ]
  },
  {
   "cell_type": "code",
   "execution_count": 7,
   "id": "cb9adbfe",
   "metadata": {},
   "outputs": [
    {
     "data": {
      "image/png": "[encoded data removed]",
      "text/plain": [
       "<IPython.core.display.Image object>"
      ]
     },
     "execution_count": 7,
     "metadata": {},
     "output_type": "execute_result"
    }
   ],
   "source": [
    "Image( 'C:/Users/paula/EndoCalc_Analytics/mindmap_sales.png' )"
   ]
  },
  {
   "cell_type": "markdown",
   "id": "302e0ed0",
   "metadata": {},
   "source": [
    "## 2.2. Criacao das Hipoteses"
   ]
  },
  {
   "cell_type": "code",
   "execution_count": null,
   "id": "19628c91",
   "metadata": {},
   "outputs": [],
   "source": [
    "# Agente 1 ex: loja\n",
    "\n",
    "# Agente 2 ex: cliente\n",
    "\n",
    ".\n",
    ".\n",
    ".\n",
    "."
   ]
  },
  {
   "cell_type": "markdown",
   "id": "b85bc267",
   "metadata": {},
   "source": [
    "## 2.3. Lista Final de Hipóteses"
   ]
  },
  {
   "cell_type": "code",
   "execution_count": null,
   "id": "740a3631",
   "metadata": {},
   "outputs": [],
   "source": [
    "# Lista de hipóteses com informações disponíveis no momento\n",
    "\n",
    "# Posteriormente -> # Verificar a correlação e a força entre as variáveis \n",
    "#(analise, bivar e multivar)"
   ]
  },
  {
   "cell_type": "markdown",
   "id": "b7c527f4",
   "metadata": {},
   "source": [
    "## 2.4. Feature Engineering"
   ]
  },
  {
   "cell_type": "code",
   "execution_count": null,
   "id": "eae187fc",
   "metadata": {},
   "outputs": [],
   "source": [
    "# extrair ano de data\n",
    "\n",
    "df2['year'] = df2['date'].dt.year\n",
    "\n",
    "# extrair mês de data\n",
    "\n",
    "df2['month'] = df2['date'].dt.month\n",
    "\n",
    "# extrair dia de data\n",
    "\n",
    "df2['day'] = df2['date'].dt.day\n",
    "\n",
    "# extrair semana do ano de data\n",
    "\n",
    "df2['week_of_year'] = df2['date'].dt.weekofyear\n",
    "\n",
    "# # extrair semana e ano de data\n",
    "\n",
    "df2['year_week'] = df2['date'].dt.strftime( '%Y-%W' )\n",
    "\n",
    "# competition since\n",
    "\n",
    "df2['competition_since'] = df2.apply( lambda x: datetime.datetime\n",
    "                                     ( year=x['competition_open_since_year'], \n",
    "                                      month=x['competition_open_since_month'],\n",
    "                                      day=1 ), \n",
    "                                     axis=1 )\n",
    "\n",
    "df2['competition_time_month'] = ( ( df2['date'] - df2['competition_since'] )/30 ).\n",
    "                                   apply( lambda x: x.days ).astype( int )\n",
    "\n",
    "# promo since desde quando a loja participa da promoção\n",
    "\n",
    "df2['promo_since']=df2['promo2_since_year'].astype( str ) + '-' + df2['promo2_since_week']\n",
    ".astype(str)\n",
    "df2['promo_since'] = df2['promo_since'].apply( lambda x: datetime.datetime.\n",
    "                                    strptime( x + '-1', '%Y-%W-%w' ) - datetime.timedelta\n",
    "                                              ( days=7 ) )\n",
    "df2['promo_time_week'] = ( ( df2['date'] - df2['promo_since'] )/7 ).apply(lambda x: x.days)\n",
    ".astype(int)\n",
    "\n",
    "# assortment\n",
    "\n",
    "df2['assortment'] = df2['assortment'].apply\n",
    "( lambda x: 'basic' if x == 'a' else 'extra' if x == 'b' else 'extended' )\n",
    "\n",
    "# state holiday\n",
    "\n",
    "df2['state_holiday'] = df2['state_holiday'].apply\n",
    "( lambda x: 'public_holiday' if x == 'a' else 'easter_holiday' if x == 'b' \n",
    " else 'christmas' if x == 'c' else 'regular_day' )"
   ]
  },
  {
   "cell_type": "markdown",
   "id": "e6663555",
   "metadata": {},
   "source": [
    "# 3.0. PASSO 03 - FILTRAGEM DE VARIÁVEIS"
   ]
  },
  {
   "cell_type": "code",
   "execution_count": null,
   "id": "549bbb4d",
   "metadata": {},
   "outputs": [],
   "source": [
    "# filtrar as linhas primeiro e depois as colunas -> performance"
   ]
  },
  {
   "cell_type": "code",
   "execution_count": null,
   "id": "854b6723",
   "metadata": {},
   "outputs": [],
   "source": [
    "# por que filtrar?\n",
    "# para pensar nas restrições de negócio \n",
    "# pode ser variáveis que nao influenciam ou um problema específico como focar apenas nas \n",
    "#categorias \n",
    "# que mais impactam a VAR alvo\n",
    "\n",
    "# quando? antes da análise exploratoria\n",
    "# ex: df3 = df3[(df3['open'] != 0) & (df3['sales'] > 0)]\n",
    "# se a loja estiver fechada não existe razão para entrar na análise de vendas\n",
    "\n",
    "# por que selecionar variáveis?\n",
    "# verificar quais são relevantes para o modelo\n",
    "# como: cols_drop = ['customers', 'open', 'promo_interval', 'month_map']\n",
    "#       df3 = df3.drop( cols_drop, axis=1 )"
   ]
  },
  {
   "cell_type": "markdown",
   "id": "c049189e",
   "metadata": {},
   "source": [
    "## 3.1. Filtragem das Linhas"
   ]
  },
  {
   "cell_type": "code",
   "execution_count": null,
   "id": "826abbe5",
   "metadata": {},
   "outputs": [],
   "source": [
    "df3 = df2.copy()"
   ]
  },
  {
   "cell_type": "code",
   "execution_count": null,
   "id": "115c47b1",
   "metadata": {},
   "outputs": [],
   "source": [
    "df3 = df3[(df3['open'] != 0) & (df3['sales'] > 0)]"
   ]
  },
  {
   "cell_type": "markdown",
   "id": "7f483b67",
   "metadata": {},
   "source": [
    "## 3.2. Selecao das Colunas"
   ]
  },
  {
   "cell_type": "code",
   "execution_count": null,
   "id": "b31af1c2",
   "metadata": {},
   "outputs": [],
   "source": [
    "# dropar as colunas que não estarão disponíveis no momento da predição pq são restrições\n",
    "#de negócio\n",
    "# ex: customers -> não tem como prever o numero de clients na loja daqui x meses\n",
    "# ex: open -> não diz muito sobre a previsão, há uma relação direta quando a loja está \n",
    "#fechada,ou seja somente qdo estiver aberta (0 e 1)\n",
    "# sales > 0 tbem\n",
    "# colunas que ja têm derivada para não comprometer a performance do modelo aumentando \n",
    "#o conjunto de dados"
   ]
  },
  {
   "cell_type": "code",
   "execution_count": null,
   "id": "2c8eb809",
   "metadata": {},
   "outputs": [],
   "source": [
    "cols_drop = ['customers', 'open', 'promo_interval', 'month_map']\n",
    "df3 = df3.drop( cols_drop, axis=1 )"
   ]
  },
  {
   "cell_type": "markdown",
   "id": "e83924bc",
   "metadata": {},
   "source": [
    "# 4.0. PASSO 04 - ANALISE EXPLORATORIA DOS DADOS"
   ]
  },
  {
   "cell_type": "code",
   "execution_count": null,
   "id": "bcfb1d00",
   "metadata": {},
   "outputs": [],
   "source": [
    "df4 = df3.copy()"
   ]
  },
  {
   "cell_type": "code",
   "execution_count": null,
   "id": "1f6e1990",
   "metadata": {},
   "outputs": [],
   "source": [
    "# Objetivo: encontrar as variáveis que impactam a variavel resposta (alvo)/ negócio\n",
    "\n",
    "# Como: através de gráficos (cada gráfico é ideal para um tipo espefícico de análise), \n",
    "    # levantamento de hipóteses, validação de hipoteses e geração de insights\n",
    "\n",
    "# visualizar através de gráficos\n",
    "\n",
    "# Histograma (distribuição de dados): ideal para numerico discreto ou continuo e \n",
    "#visualizar frequencia\n",
    "    # informações relevantes: \n",
    "        # shape :sino, unimodal e bimodal\n",
    "        # center : media e mediana\n",
    "        # spread (qde de valores distintos na faixa): IQR, desvio padrão, variância \n",
    "        #e range\n",
    "        \n",
    "# Gráfico de frequencia (percentual): ideal para categórico nominal\n",
    "\n",
    "# Boxplot : ideal para comparar muitas variaveis e correlacionar comportamento\n",
    "\n",
    "# outlier -> 3x o desvio padrão ou 1,5I + Q3\n",
    "\n",
    "# heatmap : correlação entre var (bivariada e multivar)"
   ]
  },
  {
   "cell_type": "code",
   "execution_count": null,
   "id": "329ce142",
   "metadata": {},
   "outputs": [],
   "source": [
    "## Analises univariada, bivariada e multivariada\n",
    "\n",
    "# Análise univariada:\n",
    "# como é essa variável? min, max, distribuição, range\n",
    "\n",
    "# Análise bivariada:\n",
    "# como é essa variável impacta na var resposta? correlação, validação de hipóteses, etc\n",
    "\n",
    "# Análise multivariada:\n",
    "# + de 1 VAR com a VAR resposta e como elas se relacionam?"
   ]
  },
  {
   "cell_type": "code",
   "execution_count": null,
   "id": "f72ec9f7",
   "metadata": {},
   "outputs": [],
   "source": [
    "# os algoritmos de ML seguem algumas premissas e uma delas é a navalha de ockhan \n",
    "# ou seja essa teoria diz que se vc tiver vários modelos vc deve escolher o que tem a \n",
    "# menor complexidade pq ele generaliza o modelo melhor. \n",
    "\n",
    "# Uma das formas de tornar o dataset mais complexo é a dimensionalidade, ou seja, \n",
    "# varias colunas que 'dizem a mesma coisa' ou são derivadas das outras). \n",
    "# Se duas var são linearmente dependentes, vc poder retirar uma delas."
   ]
  },
  {
   "cell_type": "code",
   "execution_count": null,
   "id": "93cadd26",
   "metadata": {},
   "outputs": [],
   "source": [
    "# correlação entre VARs\n",
    "\n",
    "# metodos para verificar a correlção entre var:\n",
    "# qdo utilizar: antes de separar o conjunto de dados em treino e teste\n",
    "\n",
    "# continua(var resposta) e continua: pearson\n",
    "# continua(var resposta) e categorica: anova\n",
    "\n",
    "# categorica(var resposta) e continua: LDA\n",
    "# categorica(var resposta) e categorica: CHI-square/ cramer's V"
   ]
  },
  {
   "cell_type": "code",
   "execution_count": null,
   "id": "367e614b",
   "metadata": {},
   "outputs": [],
   "source": [
    "# correlação entre VAR NUMERICAS :\n",
    "    # se linear -> correlação de pearson (razão, linear)\n",
    "    correlation = num_attributes.corr( method='pearson' )\n",
    "    sns.heatmap( correlation, annot=True );\n",
    "    \n",
    "    # se nunca diminui ou aumenta -> sperman (mais complexo, equ 2 grau etc)\n",
    "    \n",
    "# correlação entre variavel num e cat\n",
    "    # cramer\n",
    "    a = df4.select_dtypes( include='object' )\n",
    "    # Calculate cramer V\n",
    "a1 = cramer_v( a['state_holiday'], a['state_holiday'] )\n",
    "a2 = cramer_v( a['state_holiday'], a['store_type'] )\n",
    "a3 = cramer_v( a['state_holiday'], a['assortment'] )\n",
    "\n",
    "a4 = cramer_v( a['store_type'], a['state_holiday'] )\n",
    "a5 = cramer_v( a['store_type'], a['store_type'] )\n",
    "a6 = cramer_v( a['store_type'], a['assortment'] )\n",
    "\n",
    "a7 = cramer_v( a['assortment'], a['state_holiday'] )\n",
    "a8 = cramer_v( a['assortment'], a['store_type'] )\n",
    "a9 = cramer_v( a['assortment'], a['assortment'] )\n",
    "\n",
    "# Final dataset\n",
    "d = pd.DataFrame( {'state_holiday': [a1, a2, a3], \n",
    "               'store_type': [a4, a5, a6],\n",
    "               'assortment': [a7, a8, a9]  })\n",
    "d = d.set_index( d.columns )\n",
    "\n",
    "sns.heatmap( d, annot=True )"
   ]
  },
  {
   "cell_type": "code",
   "execution_count": null,
   "id": "cc3fc569",
   "metadata": {},
   "outputs": [],
   "source": [
    "# Tipos de seleção de varia´veis (classificar relevante / não relevante):\n",
    "# qdo utilizar: antes de separar o conjunto de dados em treino e teste\n",
    "\n",
    "# Seleção univariada(Filter methods): \n",
    "# Seleção por importância (embedded methods)\n",
    "# Seleção por subset (wropper methods)"
   ]
  },
  {
   "cell_type": "markdown",
   "id": "2b3fd777",
   "metadata": {},
   "source": [
    "## 4.1. Analise Univariada"
   ]
  },
  {
   "cell_type": "markdown",
   "id": "86bb2967",
   "metadata": {},
   "source": [
    "### 4.1.1. Response Variable"
   ]
  },
  {
   "cell_type": "code",
   "execution_count": null,
   "id": "9977430e",
   "metadata": {},
   "outputs": [],
   "source": [
    "# plotar a distribuição\n",
    "\n",
    "# objetivo: pq alguns algoritmos de ML são criados baseados em algumas premissas:\n",
    "# dados independentes e uma distruição normal\n",
    "\n",
    "sns.distplot( df4['sales'], kde=False  )"
   ]
  },
  {
   "cell_type": "markdown",
   "id": "899c0584",
   "metadata": {},
   "source": [
    "### 4.1.2. Numerical Variable"
   ]
  },
  {
   "cell_type": "code",
   "execution_count": null,
   "id": "050ba6ca",
   "metadata": {},
   "outputs": [],
   "source": [
    "num_attributes.hist( bins=25 );\n",
    "\n",
    "# bin = numero de caixas 5x5"
   ]
  },
  {
   "cell_type": "code",
   "execution_count": null,
   "id": "39871061",
   "metadata": {},
   "outputs": [],
   "source": [
    "# VERIFICAR A DISTRIBUIÇÃO DE CADA GRAFICO:\n",
    "      # uniforme: não explica muita coisa\n",
    "      # distribuição bimodal : interesante p explicar o modelo\n",
    "      # normal\n",
    "      # deslocada p esquerda (concentração no inicio)"
   ]
  },
  {
   "cell_type": "markdown",
   "id": "6c5f38b4",
   "metadata": {},
   "source": [
    "### 4.1.3. Categorical Variable"
   ]
  },
  {
   "cell_type": "code",
   "execution_count": null,
   "id": "860aca98",
   "metadata": {},
   "outputs": [],
   "source": [
    "# state_holiday\n",
    "\n",
    "plt.subplot( 3, 2, 1 )\n",
    "a = df4[df4['state_holiday'] != 'regular_day']\n",
    "sns.countplot( a['state_holiday'] )\n",
    "\n",
    "plt.subplot( 3, 2, 2 )\n",
    "sns.kdeplot( df4[df4['state_holiday'] == 'public_holiday']['sales'], \n",
    "            label='public_holiday', shade=True )\n",
    "sns.kdeplot( df4[df4['state_holiday'] == 'easter_holiday']['sales'], \n",
    "            label='easter_holiday', shade=True )\n",
    "sns.kdeplot( df4[df4['state_holiday'] == 'christmas']['sales'], \n",
    "            label='christmas', shade=True )\n",
    "\n",
    "# store_type\n",
    "\n",
    "plt.subplot( 3, 2, 3 )\n",
    "sns.countplot( df4['store_type'] )\n",
    "\n",
    "plt.subplot( 3, 2, 4 )\n",
    "sns.kdeplot( df4[df4['store_type'] == 'a']['sales'], label='a', shade=True )\n",
    "sns.kdeplot( df4[df4['store_type'] == 'b']['sales'], label='b', shade=True )\n",
    "sns.kdeplot( df4[df4['store_type'] == 'c']['sales'], label='c', shade=True )\n",
    "sns.kdeplot( df4[df4['store_type'] == 'd']['sales'], label='d', shade=True )\n",
    "\n",
    "# assortment\n",
    "plt.subplot( 3, 2, 5 )\n",
    "sns.countplot( df4['assortment'] )\n",
    "\n",
    "plt.subplot( 3, 2, 6 )\n",
    "sns.kdeplot( df4[df4['assortment'] == 'extended']['sales'], \n",
    "            label='extended', shade=True )\n",
    "sns.kdeplot( df4[df4['assortment'] == 'basic']['sales'], label='basic', shade=True )\n",
    "sns.kdeplot( df4[df4['assortment'] == 'extra']['sales'], label='extra', shade=True )"
   ]
  },
  {
   "cell_type": "markdown",
   "id": "eb453036",
   "metadata": {},
   "source": [
    "## 4.2. Analise Bivariada"
   ]
  },
  {
   "cell_type": "code",
   "execution_count": null,
   "id": "77e418fd",
   "metadata": {},
   "outputs": [],
   "source": [
    "# verificar as hipóteses"
   ]
  },
  {
   "cell_type": "code",
   "execution_count": null,
   "id": "406e37bc",
   "metadata": {},
   "outputs": [],
   "source": [
    "# grafico de barras para correlacionar variaveis com VAR resposta\n",
    "\n",
    "aux1 = df4[['assortment', 'sales']].groupby( 'assortment' ).sum().reset_index()\n",
    "sns.barplot( x='assortment', y='sales', data=aux1 );\n",
    "\n",
    "# grafico linha do tempo e comparativo de 2 var com VAR resposta\n",
    "\n",
    "aux2 = df4[['year_week', 'assortment', 'sales']].groupby(['year_week','assortment'])\n",
    ".sum().reset_index()\n",
    "aux2.pivot( index='year_week', columns='assortment', values='sales' ).plot()\n",
    "\n",
    "# grafico linha do tempo e comparativo de 1 var com VAR resposta\n",
    "\n",
    "aux3 = aux2[aux2['assortment'] == 'extra']\n",
    "aux3.pivot( index='year_week', columns='assortment', values='sales' ).plot()"
   ]
  },
  {
   "cell_type": "code",
   "execution_count": null,
   "id": "f0e66d07",
   "metadata": {},
   "outputs": [],
   "source": [
    "# DISTRIBUIÇÃO, GRUPOS E CORRELAÇÃO"
   ]
  },
  {
   "cell_type": "code",
   "execution_count": null,
   "id": "ccd833bd",
   "metadata": {},
   "outputs": [],
   "source": [
    "# grafico de frequencia para correlacionar variaveL com VAR resposta\n",
    "\n",
    "aux1 = df4[['competition_distance', 'sales']].groupby( 'competition_distance' )\n",
    ".sum().reset_index()\n",
    "\n",
    "plt.subplot( 1, 3, 1 )\n",
    "sns.scatterplot( x ='competition_distance', y='sales', data=aux1 );\n",
    "\n",
    "# grafico de barras para correlacionar variaveis com VAR resposta\n",
    "\n",
    "plt.subplot( 1, 3, 2 )\n",
    "bins = list( np.arange( 0, 20000, 1000) )\n",
    "aux1['competition_distance_binned'] = pd.cut( aux1['competition_distance'], \n",
    "                                             bins=bins )\n",
    "aux2 = aux1[['competition_distance_binned', 'sales']].\n",
    "groupby('competition_distance_binned').sum().reset_index()\n",
    "sns.barplot( x='competition_distance_binned', y='sales', data=aux2 );\n",
    "plt.xticks( rotation=90 );\n",
    "\n",
    "# grafico de CALOR para correlacionar variaveL com VAR resposta\n",
    "# observando o grafico competition_distance x sales parece existir uma relação direta, \n",
    "#por isso aplica-se pearson (0 correl fraca e 1 ou -1 corr forte)\n",
    "\n",
    "plt.subplot( 1, 3, 3 )\n",
    "x = sns.heatmap( aux1.corr( method='pearson' ), annot=True );\n",
    "bottom, top = x.get_ylim()\n",
    "x.set_ylim( bottom+0.5, top-0.5 );"
   ]
  },
  {
   "cell_type": "code",
   "execution_count": null,
   "id": "e177f05c",
   "metadata": {},
   "outputs": [],
   "source": [
    "# Comparar var de acordo com tipo e tipo por ano"
   ]
  },
  {
   "cell_type": "code",
   "execution_count": null,
   "id": "5de69b10",
   "metadata": {},
   "outputs": [],
   "source": [
    "aux = df4[df4['state_holiday'] != 'regular_day']\n",
    "\n",
    "plt.subplot( 1, 2, 1 )\n",
    "aux1 = aux[['state_holiday', 'sales']].groupby( 'state_holiday' ).sum().reset_index()\n",
    "sns.barplot( x='state_holiday', y='sales', data=aux1 );\n",
    "\n",
    "plt.subplot( 1, 2, 2 )\n",
    "aux2 = aux[['year', 'state_holiday', 'sales']].groupby( ['year', 'state_holiday'] )\n",
    ".sum().reset_index()\n",
    "sns.barplot( x='year', y='sales', hue='state_holiday', data=aux2 );"
   ]
  },
  {
   "cell_type": "code",
   "execution_count": null,
   "id": "79e02f92",
   "metadata": {},
   "outputs": [],
   "source": [
    "# verificar cat com VAR resposta em determinado periodo\n",
    "# ex:verificar a categoria de produtos mais vendidos nas ferias"
   ]
  },
  {
   "cell_type": "code",
   "execution_count": null,
   "id": "b75d8813",
   "metadata": {},
   "outputs": [],
   "source": [
    "aux1 = df4[['school_holiday', 'sales']].groupby( 'school_holiday' ).sum().reset_index()\n",
    "plt.subplot( 2, 1, 1 )\n",
    "sns.barplot( x='school_holiday', y='sales', data=aux1 );\n",
    "\n",
    "aux2 = df4[['month', 'school_holiday', 'sales']].groupby( ['month','school_holiday'] )\n",
    ".sum().reset_index()\n",
    "plt.subplot( 2, 1, 2 )\n",
    "sns.barplot( x='month', y='sales', hue='school_holiday', data=aux2 );"
   ]
  },
  {
   "cell_type": "markdown",
   "id": "61a1d90b",
   "metadata": {},
   "source": [
    "### 4.2.1. Resumo das Hipoteses"
   ]
  },
  {
   "cell_type": "code",
   "execution_count": null,
   "id": "39413eaa",
   "metadata": {},
   "outputs": [],
   "source": [
    "from tabulate import tabulate"
   ]
  },
  {
   "cell_type": "code",
   "execution_count": null,
   "id": "0aee184b",
   "metadata": {},
   "outputs": [],
   "source": [
    "tab =[['Hipoteses', 'Conclusao', 'Relevancia'],\n",
    "      ['H1', 'Falsa', 'Baixa'],  \n",
    "      ['H2', 'Falsa', 'Media'],  \n",
    "      ['H3', 'Falsa', 'Media'],\n",
    "      ['H4', 'Falsa', 'Baixa'],\n",
    "      ['H5', '-', '-'],\n",
    "      ['H7', 'Falsa', 'Baixa'],\n",
    "      ['H8', 'Falsa', 'Media'],\n",
    "      ['H9', 'Falsa', 'Alta'],\n",
    "      ['H10', 'Falsa', 'Alta'],\n",
    "      ['H11', 'Verdadeira', 'Alta'],\n",
    "      ['H12', 'Verdadeira', 'Alta'],\n",
    "      ['H13', 'Verdadeira', 'Baixa'],\n",
    "     ]  \n",
    "print( tabulate( tab, headers='firstrow' ) )"
   ]
  },
  {
   "cell_type": "markdown",
   "id": "311dcd39",
   "metadata": {},
   "source": [
    "## 4.3. Analise Multivariada"
   ]
  },
  {
   "cell_type": "markdown",
   "id": "f9d3670f",
   "metadata": {},
   "source": [
    "### 4.3.1. Numerical Attributes"
   ]
  },
  {
   "cell_type": "code",
   "execution_count": null,
   "id": "f7033bd6",
   "metadata": {},
   "outputs": [],
   "source": [
    "correlation = num_attributes.corr( method='pearson' )\n",
    "sns.heatmap( correlation, annot=True );"
   ]
  },
  {
   "cell_type": "markdown",
   "id": "629369a7",
   "metadata": {},
   "source": [
    "### 4.3.2. Categorical Attributes"
   ]
  },
  {
   "cell_type": "code",
   "execution_count": null,
   "id": "84279a52",
   "metadata": {},
   "outputs": [],
   "source": [
    "# only categorical data\n",
    "a = df4.select_dtypes( include='object' )\n",
    "\n",
    "# Calculate cramer V\n",
    "a1 = cramer_v( a['state_holiday'], a['state_holiday'] )\n",
    "a2 = cramer_v( a['state_holiday'], a['store_type'] )\n",
    "a3 = cramer_v( a['state_holiday'], a['assortment'] )\n",
    "\n",
    "a4 = cramer_v( a['store_type'], a['state_holiday'] )\n",
    "a5 = cramer_v( a['store_type'], a['store_type'] )\n",
    "a6 = cramer_v( a['store_type'], a['assortment'] )\n",
    "\n",
    "a7 = cramer_v( a['assortment'], a['state_holiday'] )\n",
    "a8 = cramer_v( a['assortment'], a['store_type'] )\n",
    "a9 = cramer_v( a['assortment'], a['assortment'] )\n",
    "\n",
    "# Final dataset\n",
    "d = pd.DataFrame( {'state_holiday': [a1, a2, a3], \n",
    "               'store_type': [a4, a5, a6],\n",
    "               'assortment': [a7, a8, a9]  })\n",
    "d = d.set_index( d.columns )\n",
    "\n",
    "sns.heatmap( d, annot=True )"
   ]
  },
  {
   "cell_type": "markdown",
   "id": "c9689cfc",
   "metadata": {},
   "source": [
    "# 5.0. PASSO 05 - DATA PREPARATION"
   ]
  },
  {
   "cell_type": "code",
   "execution_count": null,
   "id": "191a46c5",
   "metadata": {},
   "outputs": [],
   "source": [
    "df5 = df4.copy()"
   ]
  },
  {
   "cell_type": "code",
   "execution_count": null,
   "id": "d0b30782",
   "metadata": {},
   "outputs": [],
   "source": [
    "# Os ALG de ML foram criados com alguns critérios sendo a maioria:\n",
    "# distribuição NORMAL, na mesma ESCALA, GRANDEZA e natureza real.\n",
    "# para isso foram criados métodos de otimização que utilizam os melhores parametros \n",
    "#p dataset\n",
    "\n",
    "# distribuição NORMAL -> usada apenas nos graficos com distribuição normal da \n",
    "#analise exploratoria\n",
    "# COMO -> # rescala o centro p 0 com desvio padrao igual a 1 (-1 a 1)\n",
    "\n",
    "# distribuição não gaussiana -> usada apenas nos graficos com distribuição NÃO normal \n",
    "# como -> rescala p intervalo entre 0 e 1 \n",
    "# onde encontrar: na análise univariada\n",
    "\n",
    "# tecnicas de rescaling:\n",
    "# min-max-scaler (formula para coluna e fazer nova escala)\n",
    "# robust scaler: diferença p cada quartil (interquartil ou seja minimiza o problema \n",
    "#com outiers)"
   ]
  },
  {
   "cell_type": "code",
   "execution_count": null,
   "id": "c479d3b1",
   "metadata": {},
   "outputs": [],
   "source": [
    "# selecionar VARs com distribuição normal, não gaussiana, cat e natureza ciclica\n",
    "\n",
    "# Normalização -> reescalar p distribuição normal (range)\n",
    "\n",
    "# Rescaling -> reescalar p distribuição não gaussiana (range)\n",
    "    # existe outliers? ->  sns.boxplot(df['nomedacoluna'])\n",
    "        # var1: SIM -> usar robust scaler : rs = RobustScaler()\n",
    "        # var2:  Não -> minmaxscaler\n",
    "\n",
    "# Transformação -> grandeza e natureza\n",
    "    # grandeza: cat para num (verificar a performance do modelo com cada tipo )\n",
    "        # One hot: indicado mudança de comportam,ideal p poucas variações pois > o \n",
    "    #dataset com colunas\n",
    "        # Label encoding : indicado p quando nao existe uma ordem, nomes\n",
    "        # Ordinal encoding: indicado para ordens\n",
    "        # Target encoding: indicado para numero gde de var categoricas. ex: cores\n",
    "        # Frequency encoding: indicado para numero gde de var categoricas p indicar freq\n",
    "        # Embedding encoding: indicada p NLP. ex: previsão de demanda, LSTM\n",
    "        \n",
    "    # natureza: transforma a distribuição da var resposta mais próxima de uma \n",
    "    #distrib normal\n",
    "        # Logarithm\n",
    "        # Box-cox\n",
    "        # Cube-root\n",
    "        # Square-root\n",
    "        # Sine cosine"
   ]
  },
  {
   "cell_type": "markdown",
   "id": "75c2f397",
   "metadata": {},
   "source": [
    "## 5.1. Normalizacao"
   ]
  },
  {
   "cell_type": "markdown",
   "id": "dfd85cef",
   "metadata": {},
   "source": [
    "## 5.2. Rescaling"
   ]
  },
  {
   "cell_type": "code",
   "execution_count": null,
   "id": "1be8208f",
   "metadata": {},
   "outputs": [],
   "source": [
    "rs = RobustScaler()\n",
    "mms = MinMaxScaler()\n",
    "\n",
    "# competition distance\n",
    "# fit encontra os parâmetros e aplica a formula\n",
    "\n",
    "df5['competition_distance'] = rs.fit_transform( df5[['competition_distance']].values )\n",
    "pickle.dump( rs, open( 'parameter/competition_distance_scaler.pkl', 'wb') )\n",
    "\n",
    "# competition time month\n",
    "df5['competition_time_month'] = rs.fit_transform( df5[['competition_time_month']].values)\n",
    "pickle.dump( rs, open( 'parameter/competition_time_month_scaler.pkl', 'wb') )\n",
    "\n",
    "# promo time week\n",
    "df5['promo_time_week'] = mms.fit_transform( df5[['promo_time_week']].values )\n",
    "pickle.dump( rs, open( 'parameter/promo_time_week_scaler.pkl', 'wb') )\n",
    "\n",
    "# year\n",
    "df5['year'] = mms.fit_transform( df5[['year']].values )\n",
    "pickle.dump( mms, open( 'parameter/year_scaler.pkl', 'wb') )"
   ]
  },
  {
   "cell_type": "code",
   "execution_count": null,
   "id": "bd4c9846",
   "metadata": {},
   "outputs": [],
   "source": [
    "# verificar range apos rescaling - > sns.distplot(df['nomedacoluna']) \n",
    "# 0 a 1 eixo y"
   ]
  },
  {
   "cell_type": "markdown",
   "id": "9700c590",
   "metadata": {},
   "source": [
    "## 5.3. Transformacao"
   ]
  },
  {
   "cell_type": "markdown",
   "id": "a54cc66f",
   "metadata": {},
   "source": [
    "### 5.3.1. Encoding"
   ]
  },
  {
   "cell_type": "code",
   "execution_count": null,
   "id": "64fd9eb5",
   "metadata": {},
   "outputs": [],
   "source": [
    "# Grandeza: os algor de ML foram construidos com algumas premissas e qto mais próximo dessas\n",
    "# premissas (distribuição normal) maior será a acurácia"
   ]
  },
  {
   "cell_type": "code",
   "execution_count": null,
   "id": "087aaf35",
   "metadata": {},
   "outputs": [],
   "source": [
    "# state_holiday - One Hot Encoding\n",
    "df5 = pd.get_dummies( df5, prefix=['state_holiday'], columns=['state_holiday'] )\n",
    "\n",
    "# store_type - Label Encoding\n",
    "le = LabelEncoder()\n",
    "df5['store_type'] = le.fit_transform( df5['store_type'] )\n",
    "pickle.dump( le, open( 'parameter/store_type_scaler.pkl', 'wb') )\n",
    "\n",
    "# assortment - Ordinal Encoding\n",
    "assortment_dict = {'basic': 1,  'extra': 2, 'extended': 3}\n",
    "df5['assortment'] = df5['assortment'].map( assortment_dict )"
   ]
  },
  {
   "cell_type": "markdown",
   "id": "c8570f5f",
   "metadata": {},
   "source": [
    "### 5.3.2. Response Variable Transformation"
   ]
  },
  {
   "cell_type": "code",
   "execution_count": null,
   "id": "ea453106",
   "metadata": {},
   "outputs": [],
   "source": [
    "#Tipos de transformação:\n",
    "\n",
    "# 1 Logarithm transformation: transforma a distribuição da var resposta mais prox \n",
    "#distribuição normal \n",
    "# 2 Box-cox transformation: \n",
    "# 3 Cube-root transformation: \n",
    "# 4 Square-root transformation: \n",
    "# 5 Sine and cosine transformation: cíclica ex: meses"
   ]
  },
  {
   "cell_type": "code",
   "execution_count": null,
   "id": "e7457577",
   "metadata": {},
   "outputs": [],
   "source": [
    "# transformar a distribuição da var resposta -> log\n",
    "\n",
    "df5['sales'] = np.log1p( df5['sales'] )"
   ]
  },
  {
   "cell_type": "code",
   "execution_count": null,
   "id": "99d2cfaa",
   "metadata": {},
   "outputs": [],
   "source": [
    "# visualizar\n",
    "#sns.distplot(df['nomedacoluna'])"
   ]
  },
  {
   "cell_type": "markdown",
   "id": "c3c16c4f",
   "metadata": {},
   "source": [
    "### 5.3.3. Nature Transformation"
   ]
  },
  {
   "cell_type": "code",
   "execution_count": null,
   "id": "12673154",
   "metadata": {},
   "outputs": [],
   "source": [
    "# day of week\n",
    "df5['day_of_week_sin'] = df5['day_of_week'].apply\n",
    "( lambda x: np.sin( x * ( 2. * np.pi/7 ) ) )\n",
    "df5['day_of_week_cos'] = df5['day_of_week'].apply\n",
    "( lambda x: np.cos( x * ( 2. * np.pi/7 ) ) )\n",
    "\n",
    "# month\n",
    "df5['month_sin'] = df5['month'].apply( lambda x: np.sin( x * ( 2. * np.pi/12 ) ) )\n",
    "df5['month_cos'] = df5['month'].apply( lambda x: np.cos( x * ( 2. * np.pi/12 ) ) )\n",
    "\n",
    "# day \n",
    "df5['day_sin'] = df5['day'].apply( lambda x: np.sin( x * ( 2. * np.pi/30 ) ) )\n",
    "df5['day_cos'] = df5['day'].apply( lambda x: np.cos( x * ( 2. * np.pi/30 ) ) )\n",
    "\n",
    "# week of year\n",
    "df5['week_of_year_sin'] = df5['week_of_year'].apply( lambda x: np.sin\n",
    "                                                    ( x * ( 2. * np.pi/52 ) ) )\n",
    "df5['week_of_year_cos'] = df5['week_of_year'].apply( lambda x: np.cos\n",
    "                                                    ( x * ( 2. * np.pi/52 ) ) )"
   ]
  },
  {
   "cell_type": "markdown",
   "id": "cc29c916",
   "metadata": {},
   "source": [
    "# 6.0. PASSO 06 - FEATURE SELECTION"
   ]
  },
  {
   "cell_type": "code",
   "execution_count": null,
   "id": "8aca3ea6",
   "metadata": {},
   "outputs": [],
   "source": [
    "df6 = df5.copy()"
   ]
  },
  {
   "cell_type": "code",
   "execution_count": null,
   "id": "5a8449b2",
   "metadata": {},
   "outputs": [],
   "source": [
    "# Selecionar as VARs mais importantes para o negócio\n",
    "# relevância: qual var explica melhor o fenômeno ou maior parte do fenômeno\n",
    "\n",
    "# Como -> método de seleção de VARs (relevância):\n",
    "\n",
    "    # univariada -> através da correlação FORTE -1 e 1 e FRACA 0 | VAR que \n",
    "    #mais explica o fenômeno\n",
    "    # como:\n",
    "        # pearson : num (var resposta) num\n",
    "        # anova : num cat\n",
    "        # LDA : cat num\n",
    "        # Q2/cramer : cat cat \n",
    "    # vantegem: simples e facil entendimento\n",
    "    # desvantegem: não considera influencia entre VARs (pode eliminar uma VAR \n",
    "    #q combinada é forte)\n",
    "    \n",
    "    \n",
    "    # importância -> é um subproduto do proprio aprendizado de alguns algoritmos\n",
    "    # como:\n",
    "        # random forest: seleciona as melhores VARs p treinar o modelo ou seja,\n",
    "        # as arvores separam sempre a var em 2 grupos homogenios, seleciona uma \n",
    "        #VAR e compara\n",
    "        # encontrando as var mais importantes. (método da impureza Gini Impurity)\n",
    "        # Lasso regressão\n",
    "        # Ridge regressão -> esses fornecem um peso p cada VAR (algoritmos de \n",
    "        #regressão regularizados\n",
    "        # usam algumas artimanhas math para que seus pesos fiquem em uma range)\n",
    "        # seleciona um conj que explica gde parte do fenômeno\n",
    "        \n",
    "        \n",
    "    # subset -> BORUTA seleciona uma VAR aleatória, treina um modelo (RF, XGBOOST)\n",
    "    #, calc a performance \n",
    "    # do modelo, se aum performance mantem, senão remove. \n",
    "    # algoritmo Boruta (cria novas colunas copias com a segunda coluna com \n",
    "    #numeros embaralhados- shadow features)\n"
   ]
  },
  {
   "cell_type": "code",
   "execution_count": null,
   "id": "5dd36e9c",
   "metadata": {},
   "outputs": [],
   "source": [
    "# Navalha de ockham: dê preferência para modelos mais simples (colunas)\n",
    "\n",
    "# Remover variaveis colineares/deletar as colunas que originaram outras no \n",
    "#feature engineering\n",
    "\n"
   ]
  },
  {
   "cell_type": "code",
   "execution_count": null,
   "id": "797a0b99",
   "metadata": {},
   "outputs": [],
   "source": [
    "cols_drop = ['week_of_year', 'day', 'month', 'day_of_week', 'promo_since', \n",
    "             'competition_since']\n",
    "df6 = df6.drop( cols_drop, axis=1 )"
   ]
  },
  {
   "cell_type": "code",
   "execution_count": null,
   "id": "6b39d6ea",
   "metadata": {},
   "outputs": [],
   "source": [
    "# ATENÇÃO à VAR em relação ao tempo\n",
    "# ex: vendas em relação ao tempo: separar as ultimas 6 semanas p teste"
   ]
  },
  {
   "cell_type": "code",
   "execution_count": null,
   "id": "e3ed35bf",
   "metadata": {},
   "outputs": [],
   "source": [
    "df6[['store', 'date']].groupby('store').max().reset_index()['date'][0] - \n",
    "datetime.timedelta(days=6*7)"
   ]
  },
  {
   "cell_type": "markdown",
   "id": "2c0a385b",
   "metadata": {},
   "source": [
    "## 6.1. Split dataframe into training and test dataset"
   ]
  },
  {
   "cell_type": "code",
   "execution_count": null,
   "id": "ef10c25b",
   "metadata": {},
   "outputs": [],
   "source": [
    "# training dataset\n",
    "X_train = df6[df6['date'] < '2015-06-19']\n",
    "y_train = X_train['sales']\n",
    "\n",
    "# test dataset\n",
    "X_test = df6[df6['date'] >= '2015-06-19']\n",
    "y_test = X_test['sales']\n",
    "\n",
    "print( 'Training Min Date: {}'.format( X_train['date'].min() ) )\n",
    "print( 'Training Max Date: {}'.format( X_train['date'].max() ) )\n",
    "\n",
    "print( '\\nTest Min Date: {}'.format( X_test['date'].min() ) )\n",
    "print( 'Test Max Date: {}'.format( X_test['date'].max() ) )"
   ]
  },
  {
   "cell_type": "markdown",
   "id": "3b9363f2",
   "metadata": {},
   "source": [
    "## 6.2. Boruta as Feature Selector"
   ]
  },
  {
   "cell_type": "code",
   "execution_count": null,
   "id": "3294fa34",
   "metadata": {},
   "outputs": [],
   "source": [
    "## training and test dataset for Boruta\n",
    "\n",
    "#X_train_n = X_train.drop( ['date', 'sales'], axis=1 ).values\n",
    "#y_train_n = y_train.values.ravel()\n",
    "\n",
    "## define RandomForestRegressor\n",
    "#rf = RandomForestRegressor( n_jobs=-1 )\n",
    "\n",
    "## define Boruta\n",
    "#boruta = BorutaPy( rf, n_estimators='auto', verbose=2, random_state=42 ).\n",
    "#fit( X_train_n, y_train_n )"
   ]
  },
  {
   "cell_type": "code",
   "execution_count": null,
   "id": "db69ee33",
   "metadata": {},
   "outputs": [],
   "source": [
    "# Como o Boruta é um algoritmo de selação de VAR por relevância (método seleção subset),\n",
    "# antes de treinar o Boruta p selecionar VARs devemos dropar as VARs treino do negócio,\n",
    "# ou seja 'date' e 'sales'\n",
    "# X_train_n e y_train_n -> não aplica no dataframe e sim no vetor de numeros (numpy)\n",
    "# axis=1 -> aplicar em todas as colunas ao longo das linhas\n",
    "# values -> apenas numpy e não dataframe\n",
    "# ravel -> colocar dentro do vetor\n",
    "# n_jobs -> criar todos os core em paralelo\n",
    "# rf -> modelo usado para seleção de features\n",
    "# 'auto' -> o próprio algoritmo escolhe o n de arvores\n",
    "# verbose -> printar as linhas\n",
    "# random_state -> partir da mesma linha de árvores. n=42 é aleatorio\n"
   ]
  },
  {
   "cell_type": "code",
   "execution_count": null,
   "id": "c4c4a5ed",
   "metadata": {},
   "outputs": [],
   "source": [
    "# Funcionamento do Boruta:\n",
    "\n",
    "# Funciona usando o conceito de subset:\n",
    "# Seleciona 2 VARs aleatórias do dataset original\n",
    "# Cria 2 colunas idênticas porem com linhas embaralhadas (p não criar correlação \n",
    "#entre elas)\n",
    "# Novo conj com 4 VARs\n",
    "# Treina o modelo (randon forest ou XGBoost)\n",
    "# Verica as VARs shadom + importantes\n",
    "# Fixa a VAR mais importante da shadom e compara a importancia com as VARs originais\n",
    "    # se a VAR original > VAR selecionada -> 1, senão 0\n",
    "# Após a construção da tabela com 0 e 1 tem-se Sucess counts\n",
    "# Aplica distribuição binomial\n",
    "# Encontra o p-value (aceita ou rejeita a VAR)\n",
    "    # se p-value da VAR < p-limite -> confirma , senão rejeita \n",
    "# Reduced dataset    \n",
    "    "
   ]
  },
  {
   "cell_type": "markdown",
   "id": "1448f78c",
   "metadata": {},
   "source": [
    "### 6.2.1. Best Features from Boruta"
   ]
  },
  {
   "cell_type": "code",
   "execution_count": null,
   "id": "2f58f6f0",
   "metadata": {},
   "outputs": [],
   "source": [
    "#cols_selected = boruta.support_.tolist()\n",
    "#\n",
    "## best features\n",
    "#X_train_fs = X_train.drop( ['date', 'sales'], axis=1 )\n",
    "#cols_selected_boruta = X_train_fs.iloc[:, cols_selected].columns.to_list()\n",
    "#\n",
    "## not selected boruta\n",
    "#cols_not_selected_boruta = list(np.setdiff1d(X_train_fs.columns,cols_selected_boruta))"
   ]
  },
  {
   "cell_type": "code",
   "execution_count": null,
   "id": "43cc29bd",
   "metadata": {},
   "outputs": [],
   "source": [
    "# support -> valor do ranking a coluna VAR baseado na relevancia\n",
    "# tolist -> colococar na lista\n",
    "# setdiff1d -> o que tem na 'columns' que não tem na 'cols_selected_boruta'"
   ]
  },
  {
   "cell_type": "markdown",
   "id": "22e5d904",
   "metadata": {},
   "source": [
    "## 6.3. Manual Feature Selection"
   ]
  },
  {
   "cell_type": "code",
   "execution_count": null,
   "id": "1ca08086",
   "metadata": {},
   "outputs": [],
   "source": [
    "cols_selected_boruta = [\n",
    "    'store',\n",
    "    'promo',\n",
    "    'store_type',\n",
    "    'assortment',\n",
    "    'competition_distance',\n",
    "    'competition_open_since_month',\n",
    "    'competition_open_since_year',\n",
    "    'promo2',\n",
    "    'promo2_since_week',\n",
    "    'promo2_since_year',\n",
    "    'competition_time_month',\n",
    "    'promo_time_week',\n",
    "    'day_of_week_sin',\n",
    "    'day_of_week_cos',\n",
    "    'month_sin',\n",
    "    'month_cos',\n",
    "    'day_sin',\n",
    "    'day_cos',\n",
    "    'week_of_year_sin',\n",
    "    'week_of_year_cos']\n",
    "\n",
    "# columns to add\n",
    "feat_to_add = ['date', 'sales']\n",
    "\n",
    "cols_selected_boruta_full = cols_selected_boruta.copy()\n",
    "cols_selected_boruta_full.extend( feat_to_add )"
   ]
  },
  {
   "cell_type": "code",
   "execution_count": null,
   "id": "04c026ea",
   "metadata": {},
   "outputs": [],
   "source": [
    "# extend -> inserir elemento da lista de elementos'feat_to_add' "
   ]
  },
  {
   "cell_type": "markdown",
   "id": "88c55ca9",
   "metadata": {},
   "source": [
    "# 7.0. PASSO 07 - MACHINE LEARNING MODELLING"
   ]
  },
  {
   "cell_type": "code",
   "execution_count": null,
   "id": "ebe40879",
   "metadata": {},
   "outputs": [],
   "source": [
    "# objetivo do ML: aprender o comportamento (neste caso VENDAS) com as var disponiveis \n",
    "# para generaliza-las no futuro."
   ]
  },
  {
   "cell_type": "code",
   "execution_count": null,
   "id": "7ae9f721",
   "metadata": {},
   "outputs": [],
   "source": [
    "# Supervisionado\n",
    "\n",
    "# regressão: var resposta numeros ex: previsao de vendas, valor de venda, dimensao\n",
    "# classificação: var resposta classe (numero ou nomes), deep learning\n",
    "# series temporais: previsao: numero ao longo do tempo"
   ]
  },
  {
   "cell_type": "code",
   "execution_count": null,
   "id": "8baa696c",
   "metadata": {},
   "outputs": [],
   "source": [
    "# Não supervisionado\n",
    "\n",
    "# agrupamento / clusterização"
   ]
  },
  {
   "cell_type": "code",
   "execution_count": null,
   "id": "4bb19be2",
   "metadata": {},
   "outputs": [],
   "source": [
    "# Semi-supervisionado\n",
    "\n",
    "# reiforcement learning\n",
    "\n",
    "# Aprende durante a execução (ação e recompensa)\n",
    "# agente(codigo) e ambiente: o agente faz uma ação e recebe uma recompensa + ou -"
   ]
  },
  {
   "cell_type": "code",
   "execution_count": null,
   "id": "54d084b7",
   "metadata": {},
   "outputs": [],
   "source": [
    "# sem 'date' e 'sales'\n",
    "\n",
    "x_train = X_train[ cols_selected_boruta ]\n",
    "x_test = X_test[ cols_selected_boruta ]\n",
    "\n",
    "# Time Series Data Preparation\n",
    "x_training = X_train[ cols_selected_boruta_full ]"
   ]
  },
  {
   "cell_type": "code",
   "execution_count": null,
   "id": "0014dd3b",
   "metadata": {},
   "outputs": [],
   "source": [
    "# Como escolher o modelo\n",
    "\n",
    "# Modelo de média -> objetivo é comparar com os modelos que serão aplicados\n",
    "# se a performance do modelo > performance media  OK, senão mantem modelo media\n",
    "\n",
    "# Regressão linear \n",
    "\n",
    "# Regressão linear regularizado (lasso e ridge) -> o objetivo é verificar a \n",
    "#complexidade do modelo\n",
    "# se a performance for ruim significa que o modelo é mais complexo\n",
    "\n",
    "# Random forest regressor e XGBoost -> modelos de classificação adaptados p regressão\n",
    "# o XGBoost consegue selecionar as features mais rapidamente"
   ]
  },
  {
   "cell_type": "markdown",
   "id": "1a26fcc4",
   "metadata": {},
   "source": [
    "## 7.1. Average Model"
   ]
  },
  {
   "cell_type": "code",
   "execution_count": null,
   "id": "ee6afde6",
   "metadata": {},
   "outputs": [],
   "source": [
    "# modelo de media: prever a media (serve como baseline ou seja para comparar com \n",
    "#modelo de ML, \n",
    "# se maior ou menor)\n",
    "# RMSE menor que lasso e regressão -> o modelo é mais complexo"
   ]
  },
  {
   "cell_type": "code",
   "execution_count": null,
   "id": "06246899",
   "metadata": {},
   "outputs": [],
   "source": [
    "aux1 = x_test.copy()\n",
    "aux1['sales'] = y_test.copy()\n",
    "\n",
    "# prediction\n",
    "aux2 = aux1[['store', 'sales']].groupby( 'store' ).mean().reset_index().rename\n",
    "                                           ( columns={'sales': 'predictions'} )\n",
    "aux1 = pd.merge( aux1, aux2, how='left', on='store' )\n",
    "yhat_baseline = aux1['predictions']\n",
    "\n",
    "# performance\n",
    "baseline_result = ml_error('Average Model', np.expm1(y_test), np.expm1(yhat_baseline))\n",
    "baseline_result"
   ]
  },
  {
   "cell_type": "code",
   "execution_count": null,
   "id": "fe2509b9",
   "metadata": {},
   "outputs": [],
   "source": [
    "# aux1 -> base do conj de dados\n",
    "# aux2 -> prediction\n",
    "# on='store' -> coluna chave\n",
    "# expm1 -> as vendas foram usadas com log, logo reverter p modelo np"
   ]
  },
  {
   "cell_type": "markdown",
   "id": "1290f55b",
   "metadata": {},
   "source": [
    "## 7.2. Linear Regression Model"
   ]
  },
  {
   "cell_type": "code",
   "execution_count": null,
   "id": "93cf6f41",
   "metadata": {},
   "outputs": [],
   "source": [
    "# baseado no Ockhan navalha começamos por modelos simples, como os lineares. \n",
    "# se a performance não for boa é pq o modelo significa q o modelo é mais complexo"
   ]
  },
  {
   "cell_type": "code",
   "execution_count": null,
   "id": "4e1281a1",
   "metadata": {},
   "outputs": [],
   "source": [
    "# Modelos baseados em arvores (classificação)\n",
    "\n",
    "# Random forest\n",
    "# XGBoost regressor"
   ]
  },
  {
   "cell_type": "code",
   "execution_count": null,
   "id": "78e38ac5",
   "metadata": {},
   "outputs": [],
   "source": [
    "# model\n",
    "lr = LinearRegression().fit( x_train, y_train )\n",
    "\n",
    "# prediction\n",
    "yhat_lr = lr.predict( x_test )\n",
    "\n",
    "# performance\n",
    "lr_result = ml_error('Linear Regression', np.expm1(y_test), np.expm1(yhat_lr))\n",
    "lr_result"
   ]
  },
  {
   "cell_type": "code",
   "execution_count": null,
   "id": "622d299a",
   "metadata": {},
   "outputs": [],
   "source": [
    "# predict -> método da classe LinearRegression\n",
    "# x_test -> dados de teste\n",
    "# y_teste -> dados reais\n",
    "# yhat_lr -> predições\n",
    "# expm1 -> voltar p dados originais\n",
    "\n",
    "\n",
    "# y_train -> VAR resposta do treino\n",
    "\n",
    "# se O erro RMSE do RL > media -> o modelo media é melhor e os dados têm comportamento \n",
    "#+complexo\n",
    "# sendo assim, os modelos lineares não são indicados"
   ]
  },
  {
   "cell_type": "markdown",
   "id": "75c85bf6",
   "metadata": {},
   "source": [
    "### 7.2.1. Linear Regression Model - Cross Validation"
   ]
  },
  {
   "cell_type": "code",
   "execution_count": null,
   "id": "872318d5",
   "metadata": {},
   "outputs": [],
   "source": [
    "lr_result_cv = cross_validation( x_training, 5, 'Linear Regression', lr, verbose=False)\n",
    "lr_result_cv"
   ]
  },
  {
   "cell_type": "markdown",
   "id": "ff7087ef",
   "metadata": {},
   "source": [
    "## 7.3. Linear Regression Regularized Model - Lasso"
   ]
  },
  {
   "cell_type": "code",
   "execution_count": null,
   "id": "6691ab58",
   "metadata": {},
   "outputs": [],
   "source": [
    "# model\n",
    "lrr = Lasso( alpha=0.01 ).fit( x_train, y_train )\n",
    "\n",
    "# prediction\n",
    "yhat_lrr = lrr.predict( x_test )\n",
    "\n",
    "# performance\n",
    "lrr_result = ml_error( 'Linear Regression - Lasso', np.expm1( y_test ), \n",
    "                      np.expm1( yhat_lrr ) )\n",
    "lrr_result"
   ]
  },
  {
   "cell_type": "code",
   "execution_count": null,
   "id": "c8948ea5",
   "metadata": {},
   "outputs": [],
   "source": [
    "# alpha -> ficar dentro do range (reduzir o alpha pode melhorar a performance)"
   ]
  },
  {
   "cell_type": "code",
   "execution_count": null,
   "id": "e8229249",
   "metadata": {},
   "outputs": [],
   "source": [
    "# se O erro RMSE do Lasso > RL-> o modelo é +complexo\n",
    "# sendo assim, os modelos lineares não são indicados, indicado modelos + complexos \n",
    "#não lineares"
   ]
  },
  {
   "cell_type": "markdown",
   "id": "f2660155",
   "metadata": {},
   "source": [
    "### 7.3.1.  Lasso - Cross Validation"
   ]
  },
  {
   "cell_type": "code",
   "execution_count": null,
   "id": "06ba5d3f",
   "metadata": {},
   "outputs": [],
   "source": [
    "lrr_result_cv = cross_validation( x_training, 5, 'Lasso', lrr, verbose=False )\n",
    "lrr_result_cv"
   ]
  },
  {
   "cell_type": "markdown",
   "id": "847891e1",
   "metadata": {},
   "source": [
    "## 7.4. Random Forest Regressor"
   ]
  },
  {
   "cell_type": "code",
   "execution_count": null,
   "id": "a9cca66d",
   "metadata": {},
   "outputs": [],
   "source": [
    "# model\n",
    "rf = RandomForestRegressor( n_estimators=100, n_jobs=-1, random_state=42 ).fit( x_train, \n",
    "                                                                               y_train )\n",
    "\n",
    "# prediction\n",
    "yhat_rf = rf.predict( x_test )\n",
    "\n",
    "# performance\n",
    "rf_result = ml_error( 'Random Forest Regressor', np.expm1(y_test), np.expm1(yhat_rf))\n",
    "rf_result"
   ]
  },
  {
   "cell_type": "code",
   "execution_count": null,
   "id": "95c47d7a",
   "metadata": {},
   "outputs": [],
   "source": [
    "# n_estimators -> numero de arvores (se 1000 melhor rodar em servidor)\n",
    "# n_jobs -> rodar em paralelo\n",
    "# random_state -> partir da mesma origem (num aleatorio)"
   ]
  },
  {
   "cell_type": "markdown",
   "id": "4d7e1ce7",
   "metadata": {},
   "source": [
    "### 7.4.1.  Random Forest Regressor - Cross Validation"
   ]
  },
  {
   "cell_type": "code",
   "execution_count": null,
   "id": "da64b76d",
   "metadata": {},
   "outputs": [],
   "source": [
    "rf_result_cv = cross_validation(x_training, 5,'Random Forest Regressor', rf, verbose=True)\n",
    "rf_result_cv"
   ]
  },
  {
   "cell_type": "markdown",
   "id": "9e293250",
   "metadata": {},
   "source": [
    "## 7.5. XGBoost Regressor"
   ]
  },
  {
   "cell_type": "code",
   "execution_count": null,
   "id": "5082b265",
   "metadata": {},
   "outputs": [],
   "source": [
    "# model\n",
    "model_xgb = xgb.XGBRegressor( objective='reg:squarederror',\n",
    "                              n_estimators=100, \n",
    "                              eta=0.01, \n",
    "                              max_depth=10, \n",
    "                              subsample=0.7,\n",
    "                              colsample_bytee=0.9 ).fit( x_train, y_train )\n",
    "\n",
    "# prediction\n",
    "yhat_xgb = model_xgb.predict( x_test )\n",
    "\n",
    "# performance\n",
    "xgb_result = ml_error( 'XGBoost Regressor', np.expm1( y_test ), np.expm1( yhat_xgb ) )\n",
    "xgb_result"
   ]
  },
  {
   "cell_type": "code",
   "execution_count": null,
   "id": "80fee83c",
   "metadata": {},
   "outputs": [],
   "source": [
    "# xgb.XGBRegressor -> classe.metodo\n",
    "# objective -> função objetiva\n",
    "# eta -> qtas passadas p aprendizado\n",
    "# max_depth -> profundidade da arvore (ramificação max)\n",
    "# subsample -> % da amostra p selecionar  + relevantes\n",
    "# colsample_bytee -> p varias árvores"
   ]
  },
  {
   "cell_type": "markdown",
   "id": "18fb4718",
   "metadata": {},
   "source": [
    "### 7.5.1. XGBoost Regressor - Cross Validation"
   ]
  },
  {
   "cell_type": "code",
   "execution_count": null,
   "id": "55f9f992",
   "metadata": {},
   "outputs": [],
   "source": [
    "xgb_result_cv = cross_validation(x_training, 5,'XGBoost Regressor',model_xgb,verbose=True)\n",
    "xgb_result_cv"
   ]
  },
  {
   "cell_type": "markdown",
   "id": "9c38f442",
   "metadata": {},
   "source": [
    "## 7.6. Compare Model's Performance"
   ]
  },
  {
   "cell_type": "markdown",
   "id": "220b11e5",
   "metadata": {},
   "source": [
    "### 7.6.1. Single Performance"
   ]
  },
  {
   "cell_type": "code",
   "execution_count": null,
   "id": "f1b20891",
   "metadata": {},
   "outputs": [],
   "source": [
    "modelling_result = pd.concat( [baseline_result, lr_result, lrr_result, rf_result, \n",
    "                               xgb_result] )\n",
    "modelling_result.sort_values( 'RMSE' )"
   ]
  },
  {
   "cell_type": "code",
   "execution_count": null,
   "id": "9eabafbf",
   "metadata": {},
   "outputs": [],
   "source": [
    "Model Name\tMAE\tMAPE\tRMSE\n",
    "0\tRandom Forest Regressor\t679.622763\t0.099960\t1011.191561\n",
    "0\tXGBoost Regressor\t843.112292\t0.122609\t1250.952634\n",
    "0\tAverage Model\t1354.800353\t0.455051\t1835.135542\n",
    "0\tLinear Regression\t1867.089774\t0.292694\t2671.049215\n",
    "0\tLinear Regression - Lasso\t1891.704881\t0.289106\t2744.451737"
   ]
  },
  {
   "cell_type": "code",
   "execution_count": null,
   "id": "72b6f09a",
   "metadata": {},
   "outputs": [],
   "source": [
    "# conclusões: \n",
    "# RF (RMSE menor)  -> o problema é mais complexo  e não pode ser linaer"
   ]
  },
  {
   "cell_type": "code",
   "execution_count": null,
   "id": "5be6e079",
   "metadata": {},
   "outputs": [],
   "source": [
    "# não representa a performance real pois foi avaliado somente um período e assim pode correr \n",
    "# o risco de não representar o totalmente os dados pois pode selecionar momentos atipicos\n",
    "# para isso existe o cross validation, ou seja, selecionar varios periodos de tempo\n",
    "# para representar a variabilidade do conjunto de daodos"
   ]
  },
  {
   "cell_type": "markdown",
   "id": "ecadea98",
   "metadata": {},
   "source": [
    "### 7.6.2. Real Performance - Cross Validation"
   ]
  },
  {
   "cell_type": "code",
   "execution_count": null,
   "id": "81080f10",
   "metadata": {},
   "outputs": [],
   "source": [
    "# cross validation -> dividir o conjunto de dados em varias partes\n",
    "# para medir a performance do modelo sobre cada uma dessas partes\n",
    "\n",
    "# tecnica usada em regressão ou classificação, time series tbem com uma pna modificação\n",
    "\n",
    "# metodo cross validation times series -> deve respeitar ordem cronologica (periodo). \n",
    "# separar em treino e validação e validação é sempre do mesmo tamanho,\n",
    "# para todas iterações treino e teste"
   ]
  },
  {
   "cell_type": "code",
   "execution_count": null,
   "id": "34b04cb0",
   "metadata": {},
   "outputs": [],
   "source": [
    "# verificar no item 6 \n",
    "\n",
    "# cols_selected_boruta_full = cols_selected_boruta.copy()\n",
    "# cols_selected_boruta_full.extend(feat_to_add)\n",
    "\n",
    "# x_training = X_train[cols_selected_boruta_full] -> (p selecionar as colunas date e sales)"
   ]
  },
  {
   "cell_type": "code",
   "execution_count": null,
   "id": "dbcb3494",
   "metadata": {},
   "outputs": [],
   "source": [
    "# start and end date for validation\n",
    "\n",
    "# validation_start_date = x_training['date'].max() - \n",
    "#datetime.timedelta(days=1*6*7)\n",
    "# validation_end_date = x_training['date'].max() - \n",
    "#datetime.timedelta(days=0*6*7)\n",
    "\n",
    "# filtering dataset\n",
    "\n",
    "# training = x_training[x_training['date'] < validation_start_date]\n",
    "# validation = x_training[(x_training['date'] >= validation_start_date) \n",
    "#& (x_training['date'] <= validation_end_date)]"
   ]
  },
  {
   "cell_type": "code",
   "execution_count": null,
   "id": "2b33c248",
   "metadata": {},
   "outputs": [],
   "source": []
  },
  {
   "cell_type": "code",
   "execution_count": null,
   "id": "b4d338e3",
   "metadata": {},
   "outputs": [],
   "source": [
    "\n",
    "mae_list = []\n",
    "mape_list = []\n",
    "rmse_list = []\n",
    "\n",
    "\n",
    "k = 1\n",
    "for k in reversed(range(1, kfold+1)):\n",
    "    print('\\nKFold Number: {}'.format(k))\n",
    "\n",
    "    # start and end date for validation\n",
    "\n",
    "    validation_start_date = x_training['date'].max() - datetime.timedelta(days=1*6*7)\n",
    "    validation_end_date = x_training['date'].max() - datetime.timedelta(days=0*6*7)\n",
    "\n",
    "    # filtering dataset\n",
    "\n",
    "    training = x_training[x_training['date'] < validation_start_date]\n",
    "    validation = x_training[(x_training['date'] >= validation_start_date) & \n",
    "                            (x_training['date'] <= validation_end_date)]\n",
    "\n",
    "    # training and validation dataset\n",
    "    # training\n",
    "    xtraining = training.drop(['date', 'sale'], axis=1)\n",
    "    ytraining = training['sales']\n",
    "\n",
    "    # validation\n",
    "    xvalidation = validation.drop(['date', 'sale'], axis=1)\n",
    "    yvalidation = validation['sales']\n",
    "\n",
    "    # model\n",
    "    lr = LinearRegression().fit(xtraining, ytraining)\n",
    "\n",
    "    # prediction\n",
    "    yhat_lr = lr.predict(xvalidation)\n",
    "\n",
    "    # performance\n",
    "    lr_result = ml_error('Linear Regression', np.expml(yvalidation), np.expml(yhat_lr))\n",
    "    \n",
    "    # store performance of each kfold iteration\n",
    "    mae_list.append(lr_result['MAE'])\n",
    "    mape_list.append(lr_result['MAPE'])\n",
    "    rmse_list.append(lr_result['RMSE'])\n",
    "    \n",
    "    pd.DataFrame({'MAE CV': np.round(np.mean(mae_list),2).astype(str) + ' +/- ' \n",
    "+ np.round(np.std(mae_list),2).astype(str),\n",
    "     'MAPE CV': np.round(np.mean(mape_list),2).astype(str) + ' +/- ' \n",
    "+ np.round(np.std(mape_list),2).astype(str),\n",
    "      'RMSE CV': np.round(np.mean(rmse_list),2).astype(str) + ' +/- ' \n",
    "+ np.round(np.std(rmse_list),2).astype(str)}, index=[0])\n",
    "    "
   ]
  },
  {
   "cell_type": "code",
   "execution_count": null,
   "id": "33a0b5f0",
   "metadata": {},
   "outputs": [],
   "source": [
    "#testar o dicionario MAE CV\n",
    "\n",
    "np.round(np.mean(mae_list),2).astype(str) + ' +/- ' \n",
    "+ np.round(np.mean(mae_list),2).astype(str)\n"
   ]
  },
  {
   "cell_type": "code",
   "execution_count": null,
   "id": "b79c4307",
   "metadata": {},
   "outputs": [],
   "source": [
    "x_training = X_train[cols_selected_boruta_full]"
   ]
  },
  {
   "cell_type": "code",
   "execution_count": null,
   "id": "2343f8b8",
   "metadata": {},
   "outputs": [],
   "source": [
    "a = cross_validation(x_training, 5)"
   ]
  },
  {
   "cell_type": "code",
   "execution_count": null,
   "id": "ab5c853a",
   "metadata": {},
   "outputs": [],
   "source": [
    "a"
   ]
  },
  {
   "cell_type": "code",
   "execution_count": null,
   "id": "e30084bb",
   "metadata": {},
   "outputs": [],
   "source": [
    "# performance real da regressão linear -> MAE, rmse"
   ]
  },
  {
   "cell_type": "code",
   "execution_count": null,
   "id": "f3d02978",
   "metadata": {},
   "outputs": [],
   "source": [
    "modelling_result_cv = pd.concat( [lr_result_cv, lrr_result_cv, rf_result_cv, \n",
    "                                  xgb_result_cv] )\n",
    "modelling_result_cv"
   ]
  },
  {
   "cell_type": "code",
   "execution_count": null,
   "id": "04d46cef",
   "metadata": {},
   "outputs": [],
   "source": [
    "# a validação cruzada corta a amostra em várias partes aleatorias\n",
    "# p verificar o modelo e é ideal apresenta a margem erro p cada um"
   ]
  },
  {
   "cell_type": "code",
   "execution_count": null,
   "id": "bbe72739",
   "metadata": {},
   "outputs": [],
   "source": [
    "Model Name\tMAE CV\tMAPE CV\tRMSE CV\n",
    "0\tLinear Regression\t2081.73 +/- 295.63\t0.3 +/- 0.02\t2952.52 +/- 468.37\n",
    "0\tLasso\t2116.38 +/- 341.5\t0.29 +/- 0.01\t3057.75 +/- 504.26\n",
    "0\tRandom Forest Regressor\t837.68 +/- 219.1\t0.12 +/- 0.02\t1256.08 +/- 320.36    -> MELHOR PERFORMANCE\n",
    "0\tXGBoost Regressor\t1030.28 +/- 167.19\t0.14 +/- 0.02\t1478.26 +/- 229.79   -TAMANHO DO MODELO É MENOR(ECONOMIA)"
   ]
  },
  {
   "cell_type": "markdown",
   "id": "17d3fb2a",
   "metadata": {},
   "source": [
    "# 8.0. PASSO 08 - HYPERPARAMETER FINE TUNING"
   ]
  },
  {
   "cell_type": "code",
   "execution_count": null,
   "id": "9013b0d2",
   "metadata": {},
   "outputs": [],
   "source": [
    "# AJUSTE FINO DOS HIPERPARAMETROS\n",
    "    # hiperparametros - > todos os parametros q o modelo usa para aprender\n",
    "    # um comportamento ex: \n",
    "    # RN -> NUM NEURONIOS, NUM CAMADAS, FUNÇÃO ATIVAÇÃO, ITA\n",
    "    # RF -> num de estimadores, max profundidade das arvores, num nos, ita\n",
    "    \n",
    "    # objetivo: encontrar um conj de patametros que maximiza\n",
    "    # o aprendizado do modelo"
   ]
  },
  {
   "cell_type": "code",
   "execution_count": null,
   "id": "24c32099",
   "metadata": {},
   "outputs": [],
   "source": [
    "# Estratégias de fine tuning:\n",
    "\n",
    "# Random search: rápido e baixo custo. desvantagem: define valores para cada um dos \n",
    "# hiperparametros aleatoriamente\n",
    "\n",
    "# Grid search: define os verdadeiros valores que maximizam o aprendizado do modelo. \n",
    "# define todas as combinações possiveis de valores q hiperpar podem assumir\n",
    "# desvantagem: demorado e alto custo\n",
    "\n",
    "\n",
    "# Bayesian search: define valores baseado em aprendizados passados. \n",
    "# define valores p hiperpar seguindo teoria  de Bayes\n",
    "# desvantagem: mais rapido que grid e mais lento que random."
   ]
  },
  {
   "cell_type": "code",
   "execution_count": null,
   "id": "901f9d7e",
   "metadata": {},
   "outputs": [],
   "source": [
    "# Hiperparametros são os parâmetros utilizados pelos algoritmos de machine learning \n",
    "# para a aplicação no dataset\n",
    "# Fine Tuning é ajuste final do algoritmo. dependendo da aplicação esse ajuste pode \n",
    "# ser extremamente importante.\n",
    "\n",
    "# Estratégias de fine tuning:\n",
    "\n",
    "# Random search: rápido e baixo custo. desvantagem: define valores aleatoriamente \n",
    "# e pode nunca encontrar os valores melhores \n",
    "# Grid search: define os verdadeiros valores que maximizam o aprendizado do modelo. \n",
    "# desvantagem: demorado e alto custo\n",
    "# Bayesian search: define valores baseado em aprendizados passados(tentativa anterior). \n",
    "# desvantagem: mais rapido que grid e mais lento que random."
   ]
  },
  {
   "cell_type": "markdown",
   "id": "7a0a88d8",
   "metadata": {},
   "source": [
    "## 8.1. Random Search"
   ]
  },
  {
   "cell_type": "code",
   "execution_count": null,
   "id": "fcffcb65",
   "metadata": {},
   "outputs": [],
   "source": [
    "# pode ser usado em qq modelo e é mais rapido."
   ]
  },
  {
   "cell_type": "code",
   "execution_count": null,
   "id": "539af01f",
   "metadata": {},
   "outputs": [],
   "source": [
    "#param = {\n",
    "#    'n_estimators': [1500, 1700, 2500, 3000, 3500],     -> qto maior mais combinações\n",
    "#    'eta': [0.01, 0.03],\n",
    "#    'max_depth': [3, 5, 9],\n",
    "#    'subsample': [0.1, 0.5, 0.7],\n",
    "#    'colsample_bytree': [0.3, 0.7, 0.9],\n",
    "#    'min_child_weight': [3, 8, 15]\n",
    "#        }\n",
    "#\n",
    "#MAX_EVAL = 5"
   ]
  },
  {
   "cell_type": "code",
   "execution_count": null,
   "id": "e57f4020",
   "metadata": {},
   "outputs": [],
   "source": [
    "#final_result = pd.DataFrame()\n",
    "#\n",
    "#for i in range( MAX_EVAL ):\n",
    "#    # choose values for parameters randomly\n",
    "#    hp = { k: random.sample( v, 1 )[0] for k, v in param.items() }\n",
    "#    print( hp )\n",
    "#    \n",
    "#    # model\n",
    "#    model_xgb = xgb.XGBRegressor( objective='reg:squarederror',\n",
    "#                                  n_estimators=hp['n_estimators'], \n",
    "#                                  eta=hp['eta'], \n",
    "#                                  max_depth=hp['max_depth'], \n",
    "#                                  subsample=hp['subsample'],\n",
    "#                                  colsample_bytee=hp['colsample_bytree'],\n",
    "#                                  min_child_weight=hp['min_child_weight'] )\n",
    "#\n",
    "#    # performance\n",
    "#    result = cross_validation(x_training, 5,'XGBoost Regressor',model_xgb,verbose=True)\n",
    "#    final_result = pd.concat( [final_result, result] )\n",
    "#        \n",
    "#final_result"
   ]
  },
  {
   "cell_type": "markdown",
   "id": "ff2e63e1",
   "metadata": {},
   "source": [
    "## 8.2. Final Model"
   ]
  },
  {
   "cell_type": "code",
   "execution_count": null,
   "id": "62363eb1",
   "metadata": {},
   "outputs": [],
   "source": [
    "param_tuned = {\n",
    "    'n_estimators': 3000,\n",
    "    'eta': 0.03,\n",
    "    'max_depth': 5,\n",
    "    'subsample': 0.7,\n",
    "    'colsample_bytree': 0.7,\n",
    "    'min_child_weight': 3 \n",
    "        }"
   ]
  },
  {
   "cell_type": "code",
   "execution_count": null,
   "id": "c0ad1bb7",
   "metadata": {},
   "outputs": [],
   "source": [
    "# model\n",
    "model_xgb_tuned = xgb.XGBRegressor( objective='reg:squarederror',\n",
    "                                    n_estimators=param_tuned['n_estimators'], \n",
    "                                    eta=param_tuned['eta'], \n",
    "                                    max_depth=param_tuned['max_depth'], \n",
    "                                    subsample=param_tuned['subsample'],\n",
    "                                    colsample_bytee=param_tuned['colsample_bytree'],\n",
    "                                    min_child_weight=param_tuned['min_child_weight'] ).\n",
    "fit( x_train, y_train )\n",
    "\n",
    "# prediction\n",
    "yhat_xgb_tuned = model_xgb_tuned.predict( x_test )\n",
    "\n",
    "# performance\n",
    "xgb_result_tuned = ml_error( 'XGBoost Regressor', np.expm1( y_test ), \n",
    "                            np.expm1( yhat_xgb_tuned ) )\n",
    "xgb_result_tuned"
   ]
  },
  {
   "cell_type": "code",
   "execution_count": null,
   "id": "6dbde502",
   "metadata": {},
   "outputs": [],
   "source": [
    "mpe = mean_percentage_error( np.expm1( y_test ), np.expm1( yhat_xgb_tuned ) )\n",
    "mpe"
   ]
  },
  {
   "cell_type": "code",
   "execution_count": null,
   "id": "f30fdce2",
   "metadata": {},
   "outputs": [],
   "source": [
    "# SALVAR MODELO TREINADO (fazer tbem p boruta)\n",
    "\n",
    "import pickle\n",
    "\n",
    "pickle.dump(model_xgb_tuned, open('C:/Users/paula/EndoCalc_Analytics/pasta/modelo.pkl', 'wb'))"
   ]
  },
  {
   "cell_type": "markdown",
   "id": "27735097",
   "metadata": {},
   "source": [
    "# 9.0. PASSO 09 - TRADUCAO E INTERPRETACAO DO ERRO"
   ]
  },
  {
   "cell_type": "code",
   "execution_count": null,
   "id": "85c18e35",
   "metadata": {},
   "outputs": [],
   "source": [
    "# 1-PERFORMANCE DO MODELO DE REGRESSÃO:\n",
    "\n",
    "# MAE(mean absolute error): erro medio abs atribui o mesmo peso p todos os erros, facil \n",
    "#entendimento, robusto na presenças de outliers (pode ser ruim)\n",
    "\n",
    "# MAPE(mean absolute percentage error): mostra o quao longe a predição esta longe do valor \n",
    "#real, na media e em porcentagem. muito \n",
    "#usado na divulgação de resultados. não pode ser usado quando a var resposta contem 0.\n",
    "\n",
    "# RMSE(root mean squared error): atribui maior peso a erros maiores. sensivel na presença \n",
    "# de outliers. ideal para medir a performance de modelos de ML\n",
    "\n",
    "# MPE(mean percented error): não pode ser usado para medir performance do modelo. \n",
    "# útil para entender se o modelo está subestimado(valor negativo) superestimado(valor positivo). \n",
    "# não pode ser usado se a var resposta contem 0.\n",
    "\n",
    "\n",
    "# 2-PERFORMANCE DO MODELO SOBRE O NEGOCIO:\n",
    "\n",
    "# comparação com o status quo (como é atualmente)\n",
    "\n",
    "# incremento de receita (problema de faturamento)"
   ]
  },
  {
   "cell_type": "code",
   "execution_count": null,
   "id": "16998371",
   "metadata": {},
   "outputs": [],
   "source": [
    "np.expm1(y_test).min()"
   ]
  },
  {
   "cell_type": "code",
   "execution_count": null,
   "id": "38c20df0",
   "metadata": {},
   "outputs": [],
   "source": [
    "569"
   ]
  },
  {
   "cell_type": "code",
   "execution_count": null,
   "id": "89b1e206",
   "metadata": {},
   "outputs": [],
   "source": [
    "np.expm1(y_test).max()"
   ]
  },
  {
   "cell_type": "code",
   "execution_count": null,
   "id": "c9387ad2",
   "metadata": {},
   "outputs": [],
   "source": [
    "41550"
   ]
  },
  {
   "cell_type": "code",
   "execution_count": null,
   "id": "d857e536",
   "metadata": {},
   "outputs": [],
   "source": [
    "np.expm1(y_test).max() - np.expm1(y_test).min()"
   ]
  },
  {
   "cell_type": "code",
   "execution_count": null,
   "id": "0b94f346",
   "metadata": {},
   "outputs": [],
   "source": [
    "40981"
   ]
  },
  {
   "cell_type": "code",
   "execution_count": null,
   "id": "e0339614",
   "metadata": {},
   "outputs": [],
   "source": [
    "MAE: 665\n",
    "MAPE: 0.097 (10%)\n",
    "RMSE: 958    "
   ]
  },
  {
   "cell_type": "code",
   "execution_count": null,
   "id": "58424657",
   "metadata": {},
   "outputs": [],
   "source": [
    "erro MAE 665/40981 = 1.5 %"
   ]
  },
  {
   "cell_type": "code",
   "execution_count": null,
   "id": "034ce46d",
   "metadata": {},
   "outputs": [],
   "source": [
    "np.expm1(y_test).mean()"
   ]
  },
  {
   "cell_type": "code",
   "execution_count": null,
   "id": "79949388",
   "metadata": {},
   "outputs": [],
   "source": [
    "6995"
   ]
  },
  {
   "cell_type": "code",
   "execution_count": null,
   "id": "15d4131c",
   "metadata": {},
   "outputs": [],
   "source": [
    "erro MAPE 665/6995 = 10 %"
   ]
  },
  {
   "cell_type": "code",
   "execution_count": null,
   "id": "c56fb421",
   "metadata": {},
   "outputs": [],
   "source": [
    "erro de predição de vendas -> 10%"
   ]
  },
  {
   "cell_type": "code",
   "execution_count": null,
   "id": "f294cf9a",
   "metadata": {},
   "outputs": [],
   "source": [
    "RMSE"
   ]
  },
  {
   "cell_type": "code",
   "execution_count": null,
   "id": "4bec8d58",
   "metadata": {},
   "outputs": [],
   "source": [
    "956/6695 = erro 14%"
   ]
  },
  {
   "cell_type": "code",
   "execution_count": null,
   "id": "54cd34ce",
   "metadata": {},
   "outputs": [],
   "source": []
  },
  {
   "cell_type": "code",
   "execution_count": null,
   "id": "13ee16ab",
   "metadata": {},
   "outputs": [],
   "source": [
    "# 1-PERFORMANCE DO MODELO DE REGRESSÃO: \n",
    "# metricas para melhoria de perfornace do modelo-> RMSE e MPE\n",
    "\n",
    "# 2-PERFORMANCE DO MODELO SOBRE O NEGOCIO: \n",
    "# MAE, MAPE, MPE-> metricas de report para time de negocios\n",
    "\n",
    "# bastante rigor na resposta do projeto rmse"
   ]
  },
  {
   "cell_type": "code",
   "execution_count": null,
   "id": "f00abeb7",
   "metadata": {},
   "outputs": [],
   "source": [
    "mpe = mean_percentage_error(np.expm1(y_test), np.expm1(yhat_xgb_tuned))"
   ]
  },
  {
   "cell_type": "code",
   "execution_count": null,
   "id": "11726948",
   "metadata": {},
   "outputs": [],
   "source": [
    "-0.003 (valor predito maior que real)"
   ]
  },
  {
   "cell_type": "code",
   "execution_count": null,
   "id": "c1e7956e",
   "metadata": {},
   "outputs": [],
   "source": []
  },
  {
   "cell_type": "code",
   "execution_count": null,
   "id": "1ff4df3d",
   "metadata": {},
   "outputs": [],
   "source": [
    "MELHORIA: ERRO ATUAL  - ERRO DO MODELO\n",
    "    MAE E MAPE"
   ]
  },
  {
   "cell_type": "code",
   "execution_count": null,
   "id": "01299ca1",
   "metadata": {},
   "outputs": [],
   "source": []
  },
  {
   "cell_type": "markdown",
   "id": "10baa8cd",
   "metadata": {},
   "source": [
    "## 9.0. Tradução e interpretação do erro"
   ]
  },
  {
   "cell_type": "code",
   "execution_count": null,
   "id": "7e6c00ba",
   "metadata": {},
   "outputs": [],
   "source": [
    "df9 = X_test[ cols_selected_boruta_full ]\n",
    "\n",
    "# rescale\n",
    "df9['sales'] = np.expm1( df9['sales'] )\n",
    "df9['predictions'] = np.expm1( yhat_xgb_tuned )"
   ]
  },
  {
   "cell_type": "markdown",
   "id": "dfc16d95",
   "metadata": {},
   "source": [
    "## 9.1. Business Performance"
   ]
  },
  {
   "cell_type": "code",
   "execution_count": null,
   "id": "71f08461",
   "metadata": {},
   "outputs": [],
   "source": [
    "# sum of predictions\n",
    "df91 = df9[['store', 'predictions']].groupby( 'store' ).sum().reset_index()\n",
    "\n",
    "# MAE and MAPE\n",
    "df9_aux1 = df9[['store', 'sales', 'predictions']].groupby( 'store' ).apply\n",
    "( lambda x: mean_absolute_error( x['sales'], x['predictions'] ) ).reset_index().\n",
    "rename( columns={0:'MAE'})\n",
    "\n",
    "df9_aux2 = df9[['store', 'sales', 'predictions']].groupby( 'store' ).apply\n",
    "( lambda x: mean_absolute_percentage_error( x['sales'], x['predictions'] ) ).\n",
    "reset_index().rename( columns={0:'MAPE'})\n",
    "\n",
    "# Merge\n",
    "df9_aux3 = pd.merge( df9_aux1, df9_aux2, how='inner', on='store' )\n",
    "df92 = pd.merge( df91, df9_aux3, how='inner', on='store' )\n",
    "\n",
    "# Scenarios\n",
    "df92['worst_scenario'] = df92['predictions'] - df92['MAE']\n",
    "df92['best_scenario'] = df92['predictions'] + df92['MAE']\n",
    "\n",
    "# order columns\n",
    "df92 = df92[['store', 'predictions', 'worst_scenario', 'best_scenario', 'MAE', 'MAPE']]"
   ]
  },
  {
   "cell_type": "code",
   "execution_count": null,
   "id": "523528e5",
   "metadata": {},
   "outputs": [],
   "source": [
    "df92.sample(4)"
   ]
  },
  {
   "cell_type": "code",
   "execution_count": null,
   "id": "f39cc765",
   "metadata": {},
   "outputs": [],
   "source": [
    "sns.scatterplot( x='store', y='MAPE', data=df92 )"
   ]
  },
  {
   "cell_type": "markdown",
   "id": "94c2034a",
   "metadata": {},
   "source": [
    "## 9.2. Total Performance"
   ]
  },
  {
   "cell_type": "code",
   "execution_count": null,
   "id": "1d490147",
   "metadata": {},
   "outputs": [],
   "source": [
    "df93 = df92[['predictions', 'worst_scenario', 'best_scenario']].apply( lambda x: \n",
    "np.sum( x ), axis=0 ).reset_index().rename( columns={'index': 'Scenario', 0:'Values'} )\n",
    "df93['Values'] = df93['Values'].map( 'R${:,.2f}'.format )\n",
    "df93"
   ]
  },
  {
   "cell_type": "markdown",
   "id": "7833974c",
   "metadata": {},
   "source": [
    "## 9.3. Machine Learning Performance"
   ]
  },
  {
   "cell_type": "code",
   "execution_count": null,
   "id": "1b698e4f",
   "metadata": {},
   "outputs": [],
   "source": [
    "df9['error'] = df9['sales'] - df9['predictions']\n",
    "df9['error_rate'] = df9['predictions'] / df9['sales']"
   ]
  },
  {
   "cell_type": "code",
   "execution_count": null,
   "id": "70fadf5d",
   "metadata": {},
   "outputs": [],
   "source": [
    "c"
   ]
  },
  {
   "cell_type": "code",
   "execution_count": null,
   "id": "55f85aa4",
   "metadata": {},
   "outputs": [],
   "source": []
  }
 ],
 "metadata": {
  "kernelspec": {
   "display_name": "Python 3 (ipykernel)",
   "language": "python",
   "name": "python3"
  },
  "language_info": {
   "codemirror_mode": {
    "name": "ipython",
    "version": 3
   },
   "file_extension": ".py",
   "mimetype": "text/x-python",
   "name": "python",
   "nbconvert_exporter": "python",
   "pygments_lexer": "ipython3",
   "version": "3.10.9"
  }
 },
 "nbformat": 4,
 "nbformat_minor": 5
}
